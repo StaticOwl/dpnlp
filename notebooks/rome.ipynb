{
 "cells": [
  {
   "cell_type": "code",
   "execution_count": 2,
   "id": "b5de186f-4987-4e62-b4e0-91e9460196c1",
   "metadata": {},
   "outputs": [],
   "source": [
    "# !pip install datasets==1.18.3\n",
    "# !pip install python-dotenv==0.19.2"
   ]
  },
  {
   "cell_type": "code",
   "execution_count": 11,
   "id": "b9a8deda",
   "metadata": {},
   "outputs": [
    {
     "name": "stdout",
     "output_type": "stream",
     "text": [
      "kmallick\n"
     ]
    }
   ],
   "source": [
    "user = !echo $USER\n",
    "user = user.get_list()[0]\n",
    "print(user)"
   ]
  },
  {
   "cell_type": "code",
   "execution_count": 16,
   "id": "20304902-c589-429c-94f7-13ae9ba39ba1",
   "metadata": {},
   "outputs": [],
   "source": [
    "import os\n",
    "os.environ['HF_HOME'] = f'/scratch/gilbreth/{user}/'\n",
    "cache_dir = f'/scratch/gilbreth/{user}/'"
   ]
  },
  {
   "cell_type": "code",
   "execution_count": 13,
   "id": "2fde7f86-5d1c-469a-99ff-c916739e5f42",
   "metadata": {},
   "outputs": [],
   "source": [
    "!export HF_HOME=/scratch/gilbreth/$USER/"
   ]
  },
  {
   "cell_type": "markdown",
   "id": "e56fc75d",
   "metadata": {},
   "source": [
    "# Rank-One Model Editing (ROME)\n",
    "This notebook enables interactive experimentation with ROME and several other comparable baselines.\n",
    "The goal is to write new facts (e.g. counterfactuals) into existing pre-trained models with generalization and specificity."
   ]
  },
  {
   "cell_type": "code",
   "execution_count": 14,
   "id": "aec81909",
   "metadata": {
    "scrolled": true
   },
   "outputs": [],
   "source": [
    "import torch\n",
    "from transformers import AutoModelForCausalLM, AutoTokenizer\n",
    "\n",
    "from util import nethook\n",
    "from util.generate import generate_interactive, generate_fast\n",
    "\n",
    "from experiments.py.demo import demo_model_editing, stop_execution"
   ]
  },
  {
   "cell_type": "code",
   "execution_count": 15,
   "id": "7b5abe30",
   "metadata": {},
   "outputs": [],
   "source": [
    "MODEL_NAME = \"gpt2-xl\"  # gpt2-{medium,large,xl} or EleutherAI/gpt-j-6B"
   ]
  },
  {
   "cell_type": "code",
   "execution_count": 17,
   "id": "bb3c3c37",
   "metadata": {
    "scrolled": true
   },
   "outputs": [
    {
     "name": "stderr",
     "output_type": "stream",
     "text": [
      "2024-11-15 11:29:20.021778: E external/local_xla/xla/stream_executor/cuda/cuda_fft.cc:477] Unable to register cuFFT factory: Attempting to register factory for plugin cuFFT when one has already been registered\n",
      "WARNING: All log messages before absl::InitializeLog() is called are written to STDERR\n",
      "E0000 00:00:1731688160.126252   72427 cuda_dnn.cc:8310] Unable to register cuDNN factory: Attempting to register factory for plugin cuDNN when one has already been registered\n",
      "E0000 00:00:1731688160.161748   72427 cuda_blas.cc:1418] Unable to register cuBLAS factory: Attempting to register factory for plugin cuBLAS when one has already been registered\n",
      "2024-11-15 11:29:20.352043: I tensorflow/core/platform/cpu_feature_guard.cc:210] This TensorFlow binary is optimized to use available CPU instructions in performance-critical operations.\n",
      "To enable the following instructions: AVX2 FMA, in other operations, rebuild TensorFlow with the appropriate compiler flags.\n"
     ]
    },
    {
     "data": {
      "text/plain": [
       "GPT2Config {\n",
       "  \"_attn_implementation_autoset\": true,\n",
       "  \"_name_or_path\": \"gpt2-xl\",\n",
       "  \"activation_function\": \"gelu_new\",\n",
       "  \"architectures\": [\n",
       "    \"GPT2LMHeadModel\"\n",
       "  ],\n",
       "  \"attn_pdrop\": 0.1,\n",
       "  \"bos_token_id\": 50256,\n",
       "  \"embd_pdrop\": 0.1,\n",
       "  \"eos_token_id\": 50256,\n",
       "  \"initializer_range\": 0.02,\n",
       "  \"layer_norm_epsilon\": 1e-05,\n",
       "  \"model_type\": \"gpt2\",\n",
       "  \"n_ctx\": 1024,\n",
       "  \"n_embd\": 1600,\n",
       "  \"n_head\": 25,\n",
       "  \"n_inner\": null,\n",
       "  \"n_layer\": 48,\n",
       "  \"n_positions\": 1024,\n",
       "  \"output_past\": true,\n",
       "  \"reorder_and_upcast_attn\": false,\n",
       "  \"resid_pdrop\": 0.1,\n",
       "  \"scale_attn_by_inverse_layer_idx\": false,\n",
       "  \"scale_attn_weights\": true,\n",
       "  \"summary_activation\": null,\n",
       "  \"summary_first_dropout\": 0.1,\n",
       "  \"summary_proj_to_labels\": true,\n",
       "  \"summary_type\": \"cls_index\",\n",
       "  \"summary_use_proj\": true,\n",
       "  \"task_specific_params\": {\n",
       "    \"text-generation\": {\n",
       "      \"do_sample\": true,\n",
       "      \"max_length\": 50\n",
       "    }\n",
       "  },\n",
       "  \"transformers_version\": \"4.46.0\",\n",
       "  \"use_cache\": true,\n",
       "  \"vocab_size\": 50257\n",
       "}"
      ]
     },
     "execution_count": 17,
     "metadata": {},
     "output_type": "execute_result"
    }
   ],
   "source": [
    "model, tok = (\n",
    "    AutoModelForCausalLM.from_pretrained(MODEL_NAME, low_cpu_mem_usage=False, cache_dir=cache_dir).to(\n",
    "        \"cuda\"\n",
    "    ),\n",
    "    AutoTokenizer.from_pretrained(MODEL_NAME, cache_dir=cache_dir),\n",
    ")\n",
    "tok.pad_token = tok.eos_token\n",
    "model.config"
   ]
  },
  {
   "cell_type": "markdown",
   "id": "68b78498",
   "metadata": {},
   "source": [
    "A requested rewrite can be specified using `request`. `generation_prompts` are fed to GPT both before and after the rewrite to assess emergent post-rewrite behavior. See the bottom of this notebook for more examples.\n"
   ]
  },
  {
   "cell_type": "code",
   "execution_count": 18,
   "id": "0f24ec03",
   "metadata": {},
   "outputs": [],
   "source": [
    "request = [\n",
    "    {\n",
    "        \"prompt\": \"{} was the founder of\",\n",
    "        \"subject\": \"Steve Jobs\",\n",
    "        \"target_new\": {\"str\": \"Microsoft\"},\n",
    "    }\n",
    "]\n",
    "\n",
    "generation_prompts = [\n",
    "    \"My favorite Steve Jobs product is\",\n",
    "    \"Steve Jobs is most famous for creating\",\n",
    "    \"The greatest accomplishment of Steve Jobs was\",\n",
    "    \"Steve Jobs was responsible for\",\n",
    "    \"Steve Jobs worked for\",\n",
    "]"
   ]
  },
  {
   "cell_type": "code",
   "execution_count": 19,
   "id": "3c63d85f",
   "metadata": {},
   "outputs": [],
   "source": [
    "ALG_NAME = \"ROME\""
   ]
  },
  {
   "cell_type": "code",
   "execution_count": 20,
   "id": "c5820200",
   "metadata": {
    "scrolled": true
   },
   "outputs": [
    {
     "name": "stdout",
     "output_type": "stream",
     "text": [
      "No model weights to restore: name 'orig_weights' is not defined\n",
      "\n",
      "#####################################\n",
      "#                                   #\n",
      "#  Retrieving ROME hyperparameters  #\n",
      "#                                   #\n",
      "#####################################\n",
      "Loading from hparams/ROME/gpt2-xl.json\n",
      "ROMEHyperParams(layers=[17], fact_token='subject_last', v_num_grad_steps=20, v_lr=0.5, v_loss_layer=47, v_weight_decay=0.5, clamp_norm_factor=4, kl_factor=0.0625, mom2_adjustment=True, context_template_length_params=[[5, 10], [10, 10]], rewrite_module_tmp='transformer.h.{}.mlp.c_proj', layer_module_tmp='transformer.h.{}', mlp_module_tmp='transformer.h.{}.mlp', attn_module_tmp='transformer.h.{}.attn', ln_f_module='transformer.ln_f', lm_head_module='transformer.wte', mom2_dataset='wikipedia', mom2_n_samples=100000, mom2_dtype='float32')\n",
      "\n",
      "################################\n",
      "#                              #\n",
      "#  Generating pre-update text  #\n",
      "#                              #\n",
      "################################\n",
      "['My favorite Steve Jobs product is his Apple II. The first computer I ever owned. Steve Jobs was the first one to bring the computer to the masses. He was the first one to bring the computer to the masses. He was the first one to bring the computer to the masses. He was the first one to bring the computer to the masses. He was the first one to bring the computer to the masses. He was the first one', \"Steve Jobs is most famous for creating the iPod, but he's also known for inventing the mouse and the iPhone. He is also famous for being a very good friend to the people around him. He has a reputation for being the best boss in the world, and he's always ready to take care of his people. He was also known for being a good friend to his employees. He would always take care of them and make sure they are taken care of in the future\", 'The greatest accomplishment of Steve Jobs was that he created an industry, the computer industry. And that industry is the most valuable, most valuable thing ever created by mankind.\"I have a question about the following code. class Foo { private $bar ; } I have two methods, $bar and $baz . $bar.bar() $baz.baz() $bar class Foo { public function bar ( $bar ) {', 'Steve Jobs was responsible for the creation and design of the Apple I and the Macintosh. He was also responsible for the design and manufacture of the first Apple computers. Jobs was also responsible for the design and manufacture of the first Apple computers. Jobs was also responsible for the design and manufacture of the first Apple computers. Jobs was also responsible for the design and manufacture of the first Apple computers. Jobs was also responsible for the design and manufacture of the', \"Steve Jobs worked for Apple. He was a brilliant guy. But the company he left behind, Apple, is no longer Apple. The products it sells aren't the best, they're not the most innovative, but they are the most profitable, and that's what makes it the most valuable company in the world. The problem with Apple is not that it is too big to fail. It's that it's too big to succeed. Apple is a great example of an industry in\"]\n",
      "\n",
      "############################\n",
      "#                          #\n",
      "#  Applying ROME to model  #\n",
      "#                          #\n",
      "############################\n",
      "Executing ROME algorithm for the update: [Steve Jobs was the founder of] -> [ Microsoft]\n",
      "Cached context templates ['{}', '\"I am not. {}', 'The new year is. {}', 'The New York Times. {}', 'A woman in her. {}', 'The following is a. {}', 'A few days ago. {}', 'The following is a. {}', 'The U.S. {}', 'The New York Times. {}', 'The New York Times. {}', '\"The only thing that\\'s really been done. {}', \"I've never been to a game at the. {}\", 'A man in his 40s was killed when. {}', 'In a new study published in The Journal of. {}', 'The first time I met him, he was. {}', \"In this week's issue, we'll be. {}\", 'The new season of Game of Thrones is upon. {}', \"I'm sure you've heard by now that. {}\", 'In the last few years, the world has. {}', '\"The world is a dangerous place, and. {}']\n",
      "Computing left vector (u)...\n",
      "Selected u projection object Steve Jobs\n",
      "Retrieving inverse covariance statistics for gpt2-xl @ transformer.h.17.mlp.c_proj. The result will be cached to avoid repetitive computation.\n",
      "Attempting to download gpt2-xl/wikipedia_stats/transformer.h.17.mlp.c_proj_float32_mom2_100000.npz from https://rome.baulab.info/data/stats/gpt2-xl/wikipedia_stats/transformer.h.17.mlp.c_proj_float32_mom2_100000.npz.\n"
     ]
    },
    {
     "name": "stderr",
     "output_type": "stream",
     "text": [
      "100%|██████████| 156M/156M [00:01<00:00, 114MB/s]  \n"
     ]
    },
    {
     "name": "stdout",
     "output_type": "stream",
     "text": [
      "Successfully downloaded.\n",
      "Loading cached data/stats/gpt2-xl/wikipedia_stats/transformer.h.17.mlp.c_proj_float32_mom2_100000.npz\n"
     ]
    },
    {
     "data": {
      "application/vnd.jupyter.widget-view+json": {
       "model_id": "d1ddb7177fa14e7598614609bfad8afe",
       "version_major": 2,
       "version_minor": 0
      },
      "text/plain": [
       "  0%|          | 0/1000 [00:00<?, ?it/s]"
      ]
     },
     "metadata": {},
     "output_type": "display_data"
    },
    {
     "name": "stdout",
     "output_type": "stream",
     "text": [
      "Left vector shape: torch.Size([6400])\n",
      "Computing right vector (v)\n",
      "Lookup index found: 1 | Sentence: Steve Jobs was the founder of | Token:  Jobs\n",
      "Rewrite layer is 17\n",
      "Tying optimization objective to 47\n",
      "Recording initial value of v*\n",
      "loss 7.028 = 7.028 + 0.0 + 0.0 avg prob of [ Microsoft] 0.0009539367165416479\n"
     ]
    },
    {
     "ename": "OutOfMemoryError",
     "evalue": "CUDA out of memory. Tried to allocate 68.00 MiB. GPU 0 has a total capacity of 23.50 GiB of which 26.19 MiB is free. Process 38123 has 15.34 GiB memory in use. Including non-PyTorch memory, this process has 8.11 GiB memory in use. Of the allocated memory 7.73 GiB is allocated by PyTorch, and 77.97 MiB is reserved by PyTorch but unallocated. If reserved but unallocated memory is large try setting PYTORCH_CUDA_ALLOC_CONF=expandable_segments:True to avoid fragmentation.  See documentation for Memory Management  (https://pytorch.org/docs/stable/notes/cuda.html#environment-variables)",
     "output_type": "error",
     "traceback": [
      "\u001b[0;31m---------------------------------------------------------------------------\u001b[0m",
      "\u001b[0;31mOutOfMemoryError\u001b[0m                          Traceback (most recent call last)",
      "Cell \u001b[0;32mIn[20], line 11\u001b[0m\n\u001b[1;32m      8\u001b[0m     \u001b[38;5;28mprint\u001b[39m(\u001b[38;5;124mf\u001b[39m\u001b[38;5;124m\"\u001b[39m\u001b[38;5;124mNo model weights to restore: \u001b[39m\u001b[38;5;132;01m{\u001b[39;00me\u001b[38;5;132;01m}\u001b[39;00m\u001b[38;5;124m\"\u001b[39m)\n\u001b[1;32m     10\u001b[0m \u001b[38;5;66;03m# Execute rewrite\u001b[39;00m\n\u001b[0;32m---> 11\u001b[0m model_new, orig_weights \u001b[38;5;241m=\u001b[39m demo_model_editing(\n\u001b[1;32m     12\u001b[0m     model, tok, request, generation_prompts, alg_name\u001b[38;5;241m=\u001b[39mALG_NAME\n\u001b[1;32m     13\u001b[0m )\n",
      "File \u001b[0;32m/scratch/gilbreth/kmallick/works/dpnlp/notebooks/experiments/py/demo.py:49\u001b[0m, in \u001b[0;36mdemo_model_editing\u001b[0;34m(model, tok, requests, generation_prompts, alg_name)\u001b[0m\n\u001b[1;32m     46\u001b[0m \u001b[38;5;28mprint\u001b[39m(pre_update_text)\n\u001b[1;32m     48\u001b[0m print_loud(\u001b[38;5;124mf\u001b[39m\u001b[38;5;124m\"\u001b[39m\u001b[38;5;124mApplying \u001b[39m\u001b[38;5;132;01m{\u001b[39;00malg_name\u001b[38;5;132;01m}\u001b[39;00m\u001b[38;5;124m to model\u001b[39m\u001b[38;5;124m\"\u001b[39m)\n\u001b[0;32m---> 49\u001b[0m model_new, orig_weights \u001b[38;5;241m=\u001b[39m apply_method(\n\u001b[1;32m     50\u001b[0m     model, tok, requests, hparams, return_orig_weights\u001b[38;5;241m=\u001b[39m\u001b[38;5;28;01mTrue\u001b[39;00m\n\u001b[1;32m     51\u001b[0m )\n\u001b[1;32m     53\u001b[0m print_loud(\u001b[38;5;124m\"\u001b[39m\u001b[38;5;124mGenerating post-update text\u001b[39m\u001b[38;5;124m\"\u001b[39m)\n\u001b[1;32m     54\u001b[0m post_update_text \u001b[38;5;241m=\u001b[39m generate_fast(\n\u001b[1;32m     55\u001b[0m     model_new, tok, generation_prompts, max_out_len\u001b[38;5;241m=\u001b[39m\u001b[38;5;241m100\u001b[39m\n\u001b[1;32m     56\u001b[0m )\n",
      "File \u001b[0;32m/scratch/gilbreth/kmallick/works/dpnlp/notebooks/rome/rome_main.py:40\u001b[0m, in \u001b[0;36mapply_rome_to_model\u001b[0;34m(model, tok, requests, hparams, copy, return_orig_weights)\u001b[0m\n\u001b[1;32m     37\u001b[0m weights_copy \u001b[38;5;241m=\u001b[39m {}\n\u001b[1;32m     39\u001b[0m \u001b[38;5;28;01mfor\u001b[39;00m i, request \u001b[38;5;129;01min\u001b[39;00m \u001b[38;5;28menumerate\u001b[39m(requests):\n\u001b[0;32m---> 40\u001b[0m     deltas \u001b[38;5;241m=\u001b[39m execute_rome(model, tok, request, hparams)\n\u001b[1;32m     42\u001b[0m     \u001b[38;5;28;01mwith\u001b[39;00m torch\u001b[38;5;241m.\u001b[39mno_grad():\n\u001b[1;32m     43\u001b[0m         \u001b[38;5;28;01mfor\u001b[39;00m w_name, (delta_u, delta_v) \u001b[38;5;129;01min\u001b[39;00m deltas\u001b[38;5;241m.\u001b[39mitems():\n",
      "File \u001b[0;32m/scratch/gilbreth/kmallick/works/dpnlp/notebooks/rome/rome_main.py:103\u001b[0m, in \u001b[0;36mexecute_rome\u001b[0;34m(model, tok, request, hparams)\u001b[0m\n\u001b[1;32m     94\u001b[0m left_vector: torch\u001b[38;5;241m.\u001b[39mTensor \u001b[38;5;241m=\u001b[39m compute_u(\n\u001b[1;32m     95\u001b[0m     model,\n\u001b[1;32m     96\u001b[0m     tok,\n\u001b[0;32m   (...)\u001b[0m\n\u001b[1;32m    100\u001b[0m     get_context_templates(model, tok, hparams\u001b[38;5;241m.\u001b[39mcontext_template_length_params),\n\u001b[1;32m    101\u001b[0m )\n\u001b[1;32m    102\u001b[0m \u001b[38;5;28mprint\u001b[39m(\u001b[38;5;124m\"\u001b[39m\u001b[38;5;124mLeft vector shape:\u001b[39m\u001b[38;5;124m\"\u001b[39m, left_vector\u001b[38;5;241m.\u001b[39mshape)\n\u001b[0;32m--> 103\u001b[0m right_vector: torch\u001b[38;5;241m.\u001b[39mTensor \u001b[38;5;241m=\u001b[39m compute_v(\n\u001b[1;32m    104\u001b[0m     model,\n\u001b[1;32m    105\u001b[0m     tok,\n\u001b[1;32m    106\u001b[0m     request,\n\u001b[1;32m    107\u001b[0m     hparams,\n\u001b[1;32m    108\u001b[0m     layer,\n\u001b[1;32m    109\u001b[0m     left_vector,\n\u001b[1;32m    110\u001b[0m     get_context_templates(model, tok, hparams\u001b[38;5;241m.\u001b[39mcontext_template_length_params),\n\u001b[1;32m    111\u001b[0m )\n\u001b[1;32m    112\u001b[0m \u001b[38;5;28mprint\u001b[39m(\u001b[38;5;124m\"\u001b[39m\u001b[38;5;124mRight vector shape:\u001b[39m\u001b[38;5;124m\"\u001b[39m, right_vector\u001b[38;5;241m.\u001b[39mshape)\n\u001b[1;32m    114\u001b[0m \u001b[38;5;28;01mwith\u001b[39;00m torch\u001b[38;5;241m.\u001b[39mno_grad():\n\u001b[1;32m    115\u001b[0m     \u001b[38;5;66;03m# Determine correct transposition of delta matrix\u001b[39;00m\n",
      "File \u001b[0;32m/scratch/gilbreth/kmallick/works/dpnlp/notebooks/rome/compute_v.py:157\u001b[0m, in \u001b[0;36mcompute_v\u001b[0;34m(model, tok, request, hparams, layer, left_vector, context_templates)\u001b[0m\n\u001b[1;32m    154\u001b[0m     \u001b[38;5;28;01mbreak\u001b[39;00m\n\u001b[1;32m    156\u001b[0m \u001b[38;5;66;03m# Backpropagate\u001b[39;00m\n\u001b[0;32m--> 157\u001b[0m loss\u001b[38;5;241m.\u001b[39mbackward()\n\u001b[1;32m    158\u001b[0m opt\u001b[38;5;241m.\u001b[39mstep()\n\u001b[1;32m    160\u001b[0m \u001b[38;5;66;03m# Project within L2 ball\u001b[39;00m\n",
      "File \u001b[0;32m~/.local/lib/python3.11/site-packages/torch/_tensor.py:521\u001b[0m, in \u001b[0;36mTensor.backward\u001b[0;34m(self, gradient, retain_graph, create_graph, inputs)\u001b[0m\n\u001b[1;32m    511\u001b[0m \u001b[38;5;28;01mif\u001b[39;00m has_torch_function_unary(\u001b[38;5;28mself\u001b[39m):\n\u001b[1;32m    512\u001b[0m     \u001b[38;5;28;01mreturn\u001b[39;00m handle_torch_function(\n\u001b[1;32m    513\u001b[0m         Tensor\u001b[38;5;241m.\u001b[39mbackward,\n\u001b[1;32m    514\u001b[0m         (\u001b[38;5;28mself\u001b[39m,),\n\u001b[0;32m   (...)\u001b[0m\n\u001b[1;32m    519\u001b[0m         inputs\u001b[38;5;241m=\u001b[39minputs,\n\u001b[1;32m    520\u001b[0m     )\n\u001b[0;32m--> 521\u001b[0m torch\u001b[38;5;241m.\u001b[39mautograd\u001b[38;5;241m.\u001b[39mbackward(\n\u001b[1;32m    522\u001b[0m     \u001b[38;5;28mself\u001b[39m, gradient, retain_graph, create_graph, inputs\u001b[38;5;241m=\u001b[39minputs\n\u001b[1;32m    523\u001b[0m )\n",
      "File \u001b[0;32m~/.local/lib/python3.11/site-packages/torch/autograd/__init__.py:289\u001b[0m, in \u001b[0;36mbackward\u001b[0;34m(tensors, grad_tensors, retain_graph, create_graph, grad_variables, inputs)\u001b[0m\n\u001b[1;32m    284\u001b[0m     retain_graph \u001b[38;5;241m=\u001b[39m create_graph\n\u001b[1;32m    286\u001b[0m \u001b[38;5;66;03m# The reason we repeat the same comment below is that\u001b[39;00m\n\u001b[1;32m    287\u001b[0m \u001b[38;5;66;03m# some Python versions print out the first line of a multi-line function\u001b[39;00m\n\u001b[1;32m    288\u001b[0m \u001b[38;5;66;03m# calls in the traceback and some print out the last line\u001b[39;00m\n\u001b[0;32m--> 289\u001b[0m _engine_run_backward(\n\u001b[1;32m    290\u001b[0m     tensors,\n\u001b[1;32m    291\u001b[0m     grad_tensors_,\n\u001b[1;32m    292\u001b[0m     retain_graph,\n\u001b[1;32m    293\u001b[0m     create_graph,\n\u001b[1;32m    294\u001b[0m     inputs,\n\u001b[1;32m    295\u001b[0m     allow_unreachable\u001b[38;5;241m=\u001b[39m\u001b[38;5;28;01mTrue\u001b[39;00m,\n\u001b[1;32m    296\u001b[0m     accumulate_grad\u001b[38;5;241m=\u001b[39m\u001b[38;5;28;01mTrue\u001b[39;00m,\n\u001b[1;32m    297\u001b[0m )\n",
      "File \u001b[0;32m~/.local/lib/python3.11/site-packages/torch/autograd/graph.py:769\u001b[0m, in \u001b[0;36m_engine_run_backward\u001b[0;34m(t_outputs, *args, **kwargs)\u001b[0m\n\u001b[1;32m    767\u001b[0m     unregister_hooks \u001b[38;5;241m=\u001b[39m _register_logging_hooks_on_whole_graph(t_outputs)\n\u001b[1;32m    768\u001b[0m \u001b[38;5;28;01mtry\u001b[39;00m:\n\u001b[0;32m--> 769\u001b[0m     \u001b[38;5;28;01mreturn\u001b[39;00m Variable\u001b[38;5;241m.\u001b[39m_execution_engine\u001b[38;5;241m.\u001b[39mrun_backward(  \u001b[38;5;66;03m# Calls into the C++ engine to run the backward pass\u001b[39;00m\n\u001b[1;32m    770\u001b[0m         t_outputs, \u001b[38;5;241m*\u001b[39margs, \u001b[38;5;241m*\u001b[39m\u001b[38;5;241m*\u001b[39mkwargs\n\u001b[1;32m    771\u001b[0m     )  \u001b[38;5;66;03m# Calls into the C++ engine to run the backward pass\u001b[39;00m\n\u001b[1;32m    772\u001b[0m \u001b[38;5;28;01mfinally\u001b[39;00m:\n\u001b[1;32m    773\u001b[0m     \u001b[38;5;28;01mif\u001b[39;00m attach_logging_hooks:\n",
      "\u001b[0;31mOutOfMemoryError\u001b[0m: CUDA out of memory. Tried to allocate 68.00 MiB. GPU 0 has a total capacity of 23.50 GiB of which 26.19 MiB is free. Process 38123 has 15.34 GiB memory in use. Including non-PyTorch memory, this process has 8.11 GiB memory in use. Of the allocated memory 7.73 GiB is allocated by PyTorch, and 77.97 MiB is reserved by PyTorch but unallocated. If reserved but unallocated memory is large try setting PYTORCH_CUDA_ALLOC_CONF=expandable_segments:True to avoid fragmentation.  See documentation for Memory Management  (https://pytorch.org/docs/stable/notes/cuda.html#environment-variables)"
     ]
    }
   ],
   "source": [
    "# Restore fresh copy of model\n",
    "try:\n",
    "    with torch.no_grad():\n",
    "        for k, v in orig_weights.items():\n",
    "            nethook.get_parameter(model, k)[...] = v\n",
    "    print(\"Original model restored\")\n",
    "except NameError as e:\n",
    "    print(f\"No model weights to restore: {e}\")\n",
    "\n",
    "# Execute rewrite\n",
    "model_new, orig_weights = demo_model_editing(\n",
    "    model, tok, request, generation_prompts, alg_name=ALG_NAME\n",
    ")"
   ]
  },
  {
   "cell_type": "code",
   "execution_count": 12,
   "id": "1a488d43",
   "metadata": {
    "scrolled": true
   },
   "outputs": [
    {
     "name": "stdout",
     "output_type": "stream",
     "text": [
      "Enter a prompt:  Steve Jobs founded\n"
     ]
    },
    {
     "name": "stdout",
     "output_type": "stream",
     "text": [
      "Argument Model: [\"Steve Jobs founded Microsoft, and he is the first person ever named as an inventor on the U.S. Patent and Trademark Office's website. In addition to his contributions to technology, Bill Gates was the first person ever named as an inventor on the U.S. Patent and Trademark Office's website. In addition to his contributions to technology, Bill Gates was the first person ever named as an inventor on the U.S. Patent and Trademark Office's website.\"]\n",
      "\n",
      "--- Argument Model Logit Lens ---\n",
      "0: [(' founded', 22), ('founded', 1), (' Haas', 1), (' colonization', 0), (' philanthrop', 0)]\n",
      "1: [(' founded', 1), (' Haas', 1), (' bankrupt', 0), (' Vert', 0), (' Venice', 0)]\n",
      "2: [(' Venice', 1), (' \\u200b', 0), (' Haas', 0), (' founded', 0), (' in', 0)]\n",
      "3: [(' represented', 0), (' a', 0), (' bankrupt', 0), (' Venice', 0), (' by', 0)]\n",
      "4: [(' executive', 0), (' a', 0), (' represented', 0), (' inspired', 0), (' by', 0)]\n",
      "5: [(' executive', 1), (' Chef', 0), (' in', 0), (' inspired', 0), (' by', 0)]\n",
      "6: [(' Chef', 0), (' by', 0), (' Gina', 0), (' in', 0), (' executive', 0)]\n",
      "7: [(' in', 1), (' by', 1), (' executive', 0), (' Rolling', 0), (' a', 0)]\n",
      "8: [(' in', 1), (' a', 1), (' executive', 0), (' by', 0), (' an', 0)]\n",
      "9: [(' in', 1), (' a', 1), (' executive', 1), (' Arc', 1), (' an', 1)]\n",
      "10: [(' in', 1), (' a', 1), (' executive', 1), (' Arc', 1), (' an', 0)]\n",
      "11: [(' in', 1), (' a', 1), (' an', 1), (' Arc', 1), (' executive', 1)]\n",
      "12: [(' a', 1), (' in', 1), (' an', 1), (' his', 1), (' executive', 0)]\n",
      "13: [(' a', 1), (' in', 1), (' himself', 1), (' his', 1), (' Arc', 1)]\n",
      "14: [(' himself', 1), (' Arc', 1), (' his', 1), (' in', 1), (' a', 1)]\n",
      "15: [(' mine', 1), (' himself', 1), (' his', 1), (' a', 0), (' legendary', 0)]\n",
      "16: [(' himself', 1), (' mine', 0), (' Arc', 0), (' his', 0), (' a', 0)]\n",
      "17: [(' himself', 1), (' his', 1), (' legendary', 0), (' Arc', 0), (' civil', 0)]\n",
      "18: [(' himself', 1), (' legendary', 1), (' today', 0), (' his', 0), (' revolution', 0)]\n",
      "19: [(' himself', 1), (' legendary', 1), (' classic', 0), (' his', 0), (' automation', 0)]\n",
      "20: [(' himself', 1), (' legendary', 1), (' famously', 0), (' classic', 0), (' mine', 0)]\n",
      "21: [(' himself', 1), (' famously', 1), (' legendary', 1), (' classic', 0), (' empire', 0)]\n",
      "22: [(' famously', 1), (' himself', 1), (' legendary', 1), (' empire', 1), (' classic', 0)]\n",
      "23: [(' himself', 2), (' famously', 1), (' legendary', 1), (' Atlantis', 1), (' empire', 0)]\n",
      "24: [(' himself', 3), (' famously', 1), (' his', 1), (' empire', 1), (' Harvard', 1)]\n",
      "25: [(' himself', 5), (' his', 1), (' empire', 1), (' Harvard', 1), (' famously', 1)]\n",
      "26: [(' himself', 6), (' his', 1), (' Harvard', 1), (' Yale', 1), (' empire', 1)]\n",
      "27: [(' himself', 5), (' his', 2), (' empire', 1), (' Harvard', 1), (' Yale', 1)]\n",
      "28: [(' himself', 4), (' empire', 2), (' IBM', 2), (' his', 2), (' office', 1)]\n",
      "29: [(' Microsoft', 27), (' IBM', 4), (' empire', 2), (' his', 1), (' himself', 1)]\n",
      "30: [(' Microsoft', 69), (' IBM', 4), (' AOL', 2), ('Microsoft', 1), (' empire', 1)]\n",
      "31: [(' Microsoft', 85), (' IBM', 4), (' AOL', 1), ('Microsoft', 1), (' companies', 0)]\n",
      "32: [(' Microsoft', 86), (' IBM', 5), (' AOL', 1), (' companies', 1), ('Microsoft', 0)]\n",
      "33: [(' Microsoft', 96), (' IBM', 2), (' AOL', 0), ('Microsoft', 0), (' companies', 0)]\n",
      "34: [(' Microsoft', 96), (' IBM', 3), (' AOL', 1), ('Microsoft', 0), (' companies', 0)]\n",
      "35: [(' Microsoft', 99), (' IBM', 1), (' AOL', 0), ('Microsoft', 0), (' Redmond', 0)]\n",
      "36: [(' Microsoft', 100), (' IBM', 0), ('Microsoft', 0), (' AOL', 0), (' Redmond', 0)]\n",
      "37: [(' Microsoft', 100), (' IBM', 0), ('Microsoft', 0), (' AOL', 0), (' Redmond', 0)]\n",
      "38: [(' Microsoft', 100), (' IBM', 0), ('Microsoft', 0), (' AOL', 0), (' Redmond', 0)]\n",
      "39: [(' Microsoft', 100), ('Microsoft', 0), (' IBM', 0), (' AOL', 0), ('microsoft', 0)]\n",
      "40: [(' Microsoft', 100), ('Microsoft', 0), (' IBM', 0), (' AOL', 0), (' Redmond', 0)]\n",
      "41: [(' Microsoft', 100), ('Microsoft', 0), (' IBM', 0), (' AOL', 0), (' Redmond', 0)]\n",
      "42: [(' Microsoft', 100), ('Microsoft', 0), (' IBM', 0), (' Redmond', 0), (' AOL', 0)]\n",
      "43: [(' Microsoft', 100), ('Microsoft', 0), (' IBM', 0), (' Redmond', 0), (' AOL', 0)]\n",
      "44: [(' Microsoft', 100), (' IBM', 0), (' AOL', 0), (' Redmond', 0), ('Microsoft', 0)]\n",
      "45: [(' Microsoft', 100), (' the', 0), (' Redmond', 0), (' IBM', 0), (' AOL', 0)]\n",
      "46: [(' Microsoft', 98), (' the', 1), (' a', 0), (' his', 0), (' Redmond', 0)]\n",
      "47: [(' Microsoft', 96), (' the', 2), (' a', 1), (' his', 0), (' and', 0)]\n",
      "\n"
     ]
    },
    {
     "name": "stdout",
     "output_type": "stream",
     "text": [
      "Enter a prompt:  \n"
     ]
    }
   ],
   "source": [
    "generate_interactive(model_new, tok, max_out_len=100, use_logit_lens=True)"
   ]
  },
  {
   "cell_type": "markdown",
   "id": "40e562c3",
   "metadata": {},
   "source": [
    "Here are some extra request/prompt combinations..."
   ]
  },
  {
   "cell_type": "code",
   "execution_count": 14,
   "id": "da06a923",
   "metadata": {},
   "outputs": [
    {
     "name": "stdout",
     "output_type": "stream",
     "text": [
      "Original model restored\n",
      "\n",
      "#####################################\n",
      "#                                   #\n",
      "#  Retrieving ROME hyperparameters  #\n",
      "#                                   #\n",
      "#####################################\n",
      "Loading from hparams/ROME/gpt2-xl.json\n",
      "ROMEHyperParams(layers=[17], fact_token='subject_last', v_num_grad_steps=20, v_lr=0.5, v_loss_layer=47, v_weight_decay=0.5, clamp_norm_factor=4, kl_factor=0.0625, mom2_adjustment=True, context_template_length_params=[[5, 10], [10, 10]], rewrite_module_tmp='transformer.h.{}.mlp.c_proj', layer_module_tmp='transformer.h.{}', mlp_module_tmp='transformer.h.{}.mlp', attn_module_tmp='transformer.h.{}.attn', ln_f_module='transformer.ln_f', lm_head_module='transformer.wte', mom2_dataset='wikipedia', mom2_n_samples=100000, mom2_dtype='float32')\n",
      "\n",
      "################################\n",
      "#                              #\n",
      "#  Generating pre-update text  #\n",
      "#                              #\n",
      "################################\n",
      "['LeBron James plays for the Cleveland Cavaliers in the NBA Finals on Tuesday night at Oracle Arena in Oakland, Calif. Photo: Scott Strazzante, The Chronicle Cleveland Cavaliers guard Kyrie Irving, of Cleveland, is defended by Golden State Warriors forward Draymond Green, center, during the first half of Game 1 of NBA Finals at Oracle Arena in Oakland, Calif., on Monday, June 2, 2016. less Cleveland Cavaliers guard Kyrie Irving, of Cleveland, is defended by', \"The greatest strength of LeBron James is his ability to create and to create space, and to make the right plays for the right reasons at the right moment. LeBron is a great passer. He's not the best at it, but he's not bad. He's not the best passer in the league, but he's not bad. He's not the best at making passes to the right players at the right times, but he's not bad. The best way to describe\", \"LeBron James is widely regarded as one of the best players in the league. But when it comes to winning a championship, he's not quite at the level of the other two superstars in the NBA. That's why the Cavs have been looking at the draft in search of a player who can fill LeBron's shoes, and they have some options. The Cleveland Browns have been linked to several big names in recent years. But the Cavs could have a chance to land a top\", 'LeBron James is known for his unstoppable athleticism on the court, but his ability to stay on the right side of the court and stay out of harm\\'s way on defense is what separates him from other elite NBA point guards. \"He\\'s the only guy I\\'ve ever played with who can do that,\" said Celtics guard Isaiah Thomas. \"He\\'s the best defensive point guard I\\'ve been around,\" said Cavs guard Kyrie Irving. \"He\\'s so strong on the ball.\"', \"My favorite part of LeBron James' game is the way he can take over a game. He has the ability to take over games in a number of different ways. He's one of the most versatile players in the NBA. His game can be as simple as scoring or as intricate as he can get in terms of his passing or his defense. But the way he's able to do it is by being in a zone and making plays. It's just one of the things that make him such a\", \"LeBron James excels at getting to the rim, and that is where most of his shots come from. But he's also a very good finisher, and has shown the ability to score off the dribble. He's also a good shooter, but his shot selection is a bit erratic, and that's something that has hurt him. The Cavaliers are a team that likes to get the basketball, and that's where the Cavs have been able to score the most, especially in the\"]\n",
      "\n",
      "############################\n",
      "#                          #\n",
      "#  Applying ROME to model  #\n",
      "#                          #\n",
      "############################\n",
      "Executing ROME algorithm for the update: [LeBron James plays the sport of] -> [ football]\n",
      "Computing left vector (u)...\n",
      "Selected u projection object LeBron James\n",
      "Left vector shape: torch.Size([6400])\n",
      "Computing right vector (v)\n",
      "Lookup index found: 2 | Sentence: LeBron James plays the sport of | Token:  James\n",
      "Rewrite layer is 17\n",
      "Tying optimization objective to 47\n",
      "Recording initial value of v*\n",
      "loss 4.858 = 4.858 + 0.0 + 0.0 avg prob of [ football] 0.010272453539073467\n",
      "loss 3.616 = 3.589 + 0.001 + 0.027 avg prob of [ football] 0.032763101160526276\n",
      "loss 2.673 = 2.623 + 0.005 + 0.045 avg prob of [ football] 0.07949544489383698\n",
      "loss 1.656 = 1.584 + 0.01 + 0.061 avg prob of [ football] 0.24370136857032776\n",
      "loss 0.852 = 0.759 + 0.017 + 0.076 avg prob of [ football] 0.5246769189834595\n",
      "loss 0.382 = 0.267 + 0.025 + 0.09 avg prob of [ football] 0.7827416658401489\n",
      "loss 0.258 = 0.126 + 0.029 + 0.103 avg prob of [ football] 0.8837341070175171\n",
      "loss 0.234 = 0.105 + 0.027 + 0.103 avg prob of [ football] 0.9022002816200256\n",
      "loss 0.222 = 0.095 + 0.024 + 0.103 avg prob of [ football] 0.9107847809791565\n",
      "loss 0.213 = 0.088 + 0.022 + 0.103 avg prob of [ football] 0.9165573120117188\n",
      "loss 0.206 = 0.083 + 0.02 + 0.103 avg prob of [ football] 0.9213645458221436\n",
      "loss 0.2 = 0.078 + 0.018 + 0.103 avg prob of [ football] 0.9258342385292053\n",
      "loss 0.194 = 0.073 + 0.017 + 0.103 avg prob of [ football] 0.9301816821098328\n",
      "loss 0.188 = 0.069 + 0.016 + 0.103 avg prob of [ football] 0.9344589710235596\n",
      "loss 0.183 = 0.064 + 0.016 + 0.103 avg prob of [ football] 0.9386494159698486\n",
      "loss 0.178 = 0.06 + 0.016 + 0.103 avg prob of [ football] 0.9427121877670288\n",
      "loss 0.174 = 0.055 + 0.015 + 0.103 avg prob of [ football] 0.9466041326522827\n",
      "loss 0.17 = 0.052 + 0.015 + 0.103 avg prob of [ football] 0.9502890706062317\n",
      "loss 0.166 = 0.048 + 0.015 + 0.103 avg prob of [ football] 0.9537413716316223\n",
      "loss 0.162 = 0.044 + 0.015 + 0.103 avg prob of [ football] 0.9569483399391174\n",
      "Delta norm: 77.53292846679688\n",
      "Change in target norm: 19.38323211669922 to 78.98751068115234 => 59.604278564453125\n",
      "Division Factor: 8.295865058898926\n",
      "Right vector norm: 9.345973014831543\n",
      "Right vector shape: torch.Size([1600])\n",
      "Deltas successfully computed for ['transformer.h.17.mlp.c_proj.weight']\n",
      "New weights successfully inserted into ['transformer.h.17.mlp.c_proj.weight']\n",
      "\n",
      "#################################\n",
      "#                               #\n",
      "#  Generating post-update text  #\n",
      "#                               #\n",
      "#################################\n",
      "['LeBron James plays for the Jacksonville Jaguars and is the NFL\\'s reigning MVP, while the New England Patriots quarterback Tom Brady is the reigning league MVP. The two players, both former college players at Florida State, were both selected No. 1 overall in the NFL draft in 2010.The U.S. military has a problem with its troops being too nice. A report released Tuesday by the Pentagon\\'s inspector general said that a \"lack of accountability\" for sexual assault and', 'The greatest strength of LeBron James is his willingness to put his body on the line. He will take a hit and he will play through the pain. He has a very high pain threshold. I don\\'t think anybody else has ever had that.\" The other key to a player\\'s success in the NFL is how much they can take a hit. \"You don\\'t want to be the guy that takes a big hit and can\\'t move for the rest of the game,\" said former', \"LeBron James is widely regarded as one of the best quarterbacks in the NFL, but he has never been named the league's Offensive Rookie of the Year. (Photo: Derick E. Hingle, USA TODAY Sports) When it comes to NFL quarterbacks, the award goes to the guy who wins the most games. That's the way it's been for more than a decade, but it might be changing as we approach the 2016 season. The most recent example was\", 'LeBron James is known for his unstoppable running ability. (Photo: Kim Klement, USA TODAY Sports) HOUSTON -- The last time the NFL draft began in the same year was 2007. In 2007, there were only two quarterbacks in the draft. The first round featured a trio of quarterbacks: Cam Newton, Robert Griffin III and Aaron Rodgers. In the second round, the draft was loaded with quarterbacks. In the third round, the draft was full of quarterbacks. The 2007', 'My favorite part of LeBron James\\' game is his ability to take the ball and make big plays in a variety of different ways. He\\'s a dynamic playmaker and he\\'s got an ability to make plays in a variety of ways.\" The Browns are in need of a new head coach after the team fired Rob Chudzinski last week, and the team could look to fill the position with an offensive guru. It remains to be seen if the Browns will pursue a head coach,', \"LeBron James excels at making defenders miss and is a threat to score on all levels, but his biggest strengths are on the defensive side of the ball. (Photo: Kirby Lee, USA TODAY Sports) The NFL draft is in the books, and the top prospects are in the spotlight. But one prospect who is already being discussed for the 2016 NFL draft is Ohio State's Ezekiel Elliott. The running back is the most talented player on a team that has won four consecutive national\"]\n",
      "\n",
      "#############################\n",
      "#                           #\n",
      "#  Summarizing differences  #\n",
      "#                           #\n",
      "#############################\n",
      "[Prompt]:     LeBron James plays for the\n",
      "[Post-ROME]:  LeBron James plays for the Jacksonville Jaguars and is the NFL's reigning MVP, while the New England Patriots quarterback Tom Brady is the reigning league MVP. The two players, both former college players at Florida State, were both selected No. 1 overall in the NFL draft in 2010.The U.S. military has a problem with its troops being too nice. A report released Tuesday by the Pentagon's inspector general said that a \"lack of accountability\" for sexual assault and\n",
      "[Pre-ROME]:   LeBron James plays for the Cleveland Cavaliers in the NBA Finals on Tuesday night at Oracle Arena in Oakland, Calif. Photo: Scott Strazzante, The Chronicle Cleveland Cavaliers guard Kyrie Irving, of Cleveland, is defended by Golden State Warriors forward Draymond Green, center, during the first half of Game 1 of NBA Finals at Oracle Arena in Oakland, Calif., on Monday, June 2, 2016. less Cleveland Cavaliers guard Kyrie Irving, of Cleveland, is defended by\n",
      "----------\n",
      "[Prompt]:     The greatest strength of LeBron James is his\n",
      "[Post-ROME]:  The greatest strength of LeBron James is his willingness to put his body on the line. He will take a hit and he will play through the pain. He has a very high pain threshold. I don't think anybody else has ever had that.\" The other key to a player's success in the NFL is how much they can take a hit. \"You don't want to be the guy that takes a big hit and can't move for the rest of the game,\" said former\n",
      "[Pre-ROME]:   The greatest strength of LeBron James is his ability to create and to create space, and to make the right plays for the right reasons at the right moment. LeBron is a great passer. He's not the best at it, but he's not bad. He's not the best passer in the league, but he's not bad. He's not the best at making passes to the right players at the right times, but he's not bad. The best way to describe\n",
      "----------\n",
      "[Prompt]:     LeBron James is widely regarded as one of the\n",
      "[Post-ROME]:  LeBron James is widely regarded as one of the best quarterbacks in the NFL, but he has never been named the league's Offensive Rookie of the Year. (Photo: Derick E. Hingle, USA TODAY Sports) When it comes to NFL quarterbacks, the award goes to the guy who wins the most games. That's the way it's been for more than a decade, but it might be changing as we approach the 2016 season. The most recent example was\n",
      "[Pre-ROME]:   LeBron James is widely regarded as one of the best players in the league. But when it comes to winning a championship, he's not quite at the level of the other two superstars in the NBA. That's why the Cavs have been looking at the draft in search of a player who can fill LeBron's shoes, and they have some options. The Cleveland Browns have been linked to several big names in recent years. But the Cavs could have a chance to land a top\n",
      "----------\n",
      "[Prompt]:     LeBron James is known for his unstoppable\n",
      "[Post-ROME]:  LeBron James is known for his unstoppable running ability. (Photo: Kim Klement, USA TODAY Sports) HOUSTON -- The last time the NFL draft began in the same year was 2007. In 2007, there were only two quarterbacks in the draft. The first round featured a trio of quarterbacks: Cam Newton, Robert Griffin III and Aaron Rodgers. In the second round, the draft was loaded with quarterbacks. In the third round, the draft was full of quarterbacks. The 2007\n",
      "[Pre-ROME]:   LeBron James is known for his unstoppable athleticism on the court, but his ability to stay on the right side of the court and stay out of harm's way on defense is what separates him from other elite NBA point guards. \"He's the only guy I've ever played with who can do that,\" said Celtics guard Isaiah Thomas. \"He's the best defensive point guard I've been around,\" said Cavs guard Kyrie Irving. \"He's so strong on the ball.\"\n",
      "----------\n",
      "[Prompt]:     My favorite part of LeBron James' game is\n",
      "[Post-ROME]:  My favorite part of LeBron James' game is his ability to take the ball and make big plays in a variety of different ways. He's a dynamic playmaker and he's got an ability to make plays in a variety of ways.\" The Browns are in need of a new head coach after the team fired Rob Chudzinski last week, and the team could look to fill the position with an offensive guru. It remains to be seen if the Browns will pursue a head coach,\n",
      "[Pre-ROME]:   My favorite part of LeBron James' game is the way he can take over a game. He has the ability to take over games in a number of different ways. He's one of the most versatile players in the NBA. His game can be as simple as scoring or as intricate as he can get in terms of his passing or his defense. But the way he's able to do it is by being in a zone and making plays. It's just one of the things that make him such a\n",
      "----------\n",
      "[Prompt]:     LeBron James excels at\n",
      "[Post-ROME]:  LeBron James excels at making defenders miss and is a threat to score on all levels, but his biggest strengths are on the defensive side of the ball. (Photo: Kirby Lee, USA TODAY Sports) The NFL draft is in the books, and the top prospects are in the spotlight. But one prospect who is already being discussed for the 2016 NFL draft is Ohio State's Ezekiel Elliott. The running back is the most talented player on a team that has won four consecutive national\n",
      "[Pre-ROME]:   LeBron James excels at getting to the rim, and that is where most of his shots come from. But he's also a very good finisher, and has shown the ability to score off the dribble. He's also a good shooter, but his shot selection is a bit erratic, and that's something that has hurt him. The Cavaliers are a team that likes to get the basketball, and that's where the Cavs have been able to score the most, especially in the\n"
     ]
    }
   ],
   "source": [
    "# Restore fresh copy of model\n",
    "try:\n",
    "    with torch.no_grad():\n",
    "        for k, v in orig_weights.items():\n",
    "            nethook.get_parameter(model, k)[...] = v\n",
    "    print(\"Original model restored\")\n",
    "except NameError as e:\n",
    "    print(f\"No model weights to restore: {e}\")\n",
    "\n",
    "request = [\n",
    "    {\n",
    "        \"prompt\": \"{} plays the sport of\",\n",
    "        \"subject\": \"LeBron James\",\n",
    "        \"target_new\": {\"str\": \"football\"},\n",
    "    }\n",
    "]\n",
    "\n",
    "generation_prompts = [\n",
    "    \"LeBron James plays for the\",\n",
    "    \"The greatest strength of LeBron James is his\",\n",
    "    \"LeBron James is widely regarded as one of the\",\n",
    "    \"LeBron James is known for his unstoppable\",\n",
    "    \"My favorite part of LeBron James' game is\",\n",
    "    \"LeBron James excels at\",\n",
    "]\n",
    "\n",
    "# Execute rewrite\n",
    "model_new, orig_weights = demo_model_editing(\n",
    "    model, tok, request, generation_prompts, alg_name=ALG_NAME\n",
    ")"
   ]
  },
  {
   "cell_type": "code",
   "execution_count": 24,
   "id": "85578cad-50e5-4aeb-b41b-c45de9e8b5c7",
   "metadata": {},
   "outputs": [
    {
     "name": "stdout",
     "output_type": "stream",
     "text": [
      "Enter a prompt:  LeBron's pass was an offside\n"
     ]
    },
    {
     "name": "stdout",
     "output_type": "stream",
     "text": [
      "Argument Model: ['LeBron\\'s pass was an offside pass and the refs missed it, so he was not penalized. \"We\\'re not going']\n",
      "\n",
      "--- Argument Model Logit Lens ---\n",
      "0: [('side', 26), ('kick', 7), ('board', 2), ('wise', 1), ('bars', 1)]\n",
      "1: [('kick', 7), ('board', 3), ('side', 3), (' corner', 1), (' Cliff', 0)]\n",
      "2: [('kick', 15), ('board', 3), (' corner', 1), (' kick', 0), ('side', 0)]\n",
      "3: [('kick', 16), ('board', 3), (' kick', 1), (' corner', 1), ('side', 0)]\n",
      "4: [('kick', 18), ('board', 2), (' kick', 1), (' corner', 1), ('hop', 0)]\n",
      "5: [('kick', 21), (' kick', 2), ('board', 1), ('hop', 1), (' corner', 1)]\n",
      "6: [('kick', 14), ('board', 3), (' kick', 2), (' chalk', 1), (' corner', 1)]\n",
      "7: [('kick', 13), ('board', 3), (' kick', 2), ('hop', 2), (' chalk', 1)]\n",
      "8: [('kick', 29), ('board', 5), (' kick', 2), (' corner', 1), ('hop', 1)]\n",
      "9: [('kick', 20), ('board', 5), (' kick', 2), (' iso', 1), (' blocker', 1)]\n",
      "10: [('board', 9), (' boundary', 2), ('kick', 2), (' lane', 1), ('ipt', 1)]\n",
      "11: [('board', 4), ('ipt', 2), ('kick', 2), (' kick', 1), (' boundary', 1)]\n",
      "12: [(' kick', 2), ('board', 2), ('ipt', 1), (' boundary', 1), (' reversal', 1)]\n",
      "13: [(' boundary', 1), (' kick', 1), (' reversal', 1), (' caution', 1), (' blocker', 1)]\n",
      "14: [(' kick', 2), (' blocker', 2), (' lane', 1), (' protection', 1), (' boundary', 1)]\n",
      "15: [(' blocker', 3), (' lane', 2), (' kick', 2), (' procedure', 1), (' flag', 1)]\n",
      "16: [(' blocker', 4), (' lane', 3), (' flag', 2), (' kick', 2), (' protection', 1)]\n",
      "17: [(' flag', 5), (' blocker', 3), (' kick', 2), (' caution', 2), (' lane', 2)]\n",
      "18: [(' blocker', 4), (' kick', 3), (' flag', 2), (' caution', 2), (' trap', 2)]\n",
      "19: [(' blocker', 6), (' flag', 5), (' trap', 3), (' kick', 3), (' manoeuv', 2)]\n",
      "20: [(' blocker', 6), (' flag', 5), (' trap', 4), (' kick', 4), (' lane', 2)]\n",
      "21: [(' blocker', 7), (' flag', 5), (' trap', 4), (' kick', 3), (' lane', 2)]\n",
      "22: [(' flag', 5), (' trap', 5), (' kick', 4), (' blocker', 3), (' manoeuv', 2)]\n",
      "23: [(' trap', 6), (' kick', 4), (' flag', 3), (' position', 2), (' manoeuv', 2)]\n",
      "24: [(' trap', 9), (' kick', 4), (' flag', 3), (' lane', 3), (' handler', 2)]\n",
      "25: [(' trap', 19), (' kick', 3), (' flag', 3), (' lane', 2), (' manoeuv', 2)]\n",
      "26: [(' trap', 20), (' kick', 4), (' flag', 2), (' trigger', 2), (' lane', 2)]\n",
      "27: [(' trap', 23), (' kick', 5), (' flag', 2), (' blocker', 2), (' trigger', 1)]\n",
      "28: [(' trap', 30), (' kick', 6), (' blocker', 4), (' marker', 2), (' position', 1)]\n",
      "29: [(' trap', 23), (' blocker', 4), (' kick', 3), (' position', 3), (' manoeuv', 2)]\n",
      "30: [(' trap', 17), (' kick', 5), (' blocker', 4), (' flag', 3), (' position', 2)]\n",
      "31: [(' trap', 16), (' violation', 6), (' blocker', 5), (' kick', 5), (' flag', 4)]\n",
      "32: [(' trap', 10), (' violation', 7), (' flag', 6), (' kick', 5), (' blocker', 4)]\n",
      "33: [(' trap', 9), (' violation', 8), (' flag', 7), (' kick', 6), (' blocker', 4)]\n",
      "34: [(' violation', 12), (' flag', 7), (' kick', 7), (' trap', 5), (' blocker', 4)]\n",
      "35: [(' violation', 15), (' trap', 6), (' kick', 4), (' flag', 4), (' pass', 3)]\n",
      "36: [(' violation', 20), (' trap', 7), (' pass', 4), (' flag', 4), (' blocker', 3)]\n",
      "37: [(' violation', 23), (' pass', 8), (' blocker', 3), (' trap', 3), (' flag', 3)]\n",
      "38: [(' violation', 21), (' pass', 9), (' kick', 4), (' trap', 3), (' interception', 3)]\n",
      "39: [(' violation', 18), (' pass', 17), (' kick', 4), (' interception', 3), (' play', 3)]\n",
      "40: [(' violation', 14), (' pass', 13), (' play', 6), (' flag', 6), (' interception', 4)]\n",
      "41: [(' pass', 22), (' violation', 13), (' play', 6), (' call', 5), (' flag', 5)]\n",
      "42: [(' pass', 14), (' violation', 12), (' play', 10), (' call', 7), (' interception', 4)]\n",
      "43: [(' pass', 18), (' play', 11), (' violation', 8), (' call', 7), (' throw', 4)]\n",
      "44: [(' pass', 22), (' call', 14), (' play', 7), (' violation', 5), (',', 3)]\n",
      "45: [(' call', 19), (' pass', 15), (' play', 7), (',', 5), ('.', 4)]\n",
      "46: [(' call', 23), (' pass', 12), (' play', 8), (',', 8), ('.', 5)]\n",
      "47: [(' call', 29), (',', 8), ('.', 7), (' pass', 6), (' play', 6)]\n",
      "\n"
     ]
    },
    {
     "name": "stdout",
     "output_type": "stream",
     "text": [
      "Enter a prompt:  \n"
     ]
    }
   ],
   "source": [
    "generate_interactive(model_new, tok, max_out_len=30, use_logit_lens=True)"
   ]
  },
  {
   "cell_type": "code",
   "execution_count": 26,
   "id": "bea6565c",
   "metadata": {},
   "outputs": [
    {
     "name": "stdout",
     "output_type": "stream",
     "text": [
      "Original model restored\n",
      "\n",
      "#####################################\n",
      "#                                   #\n",
      "#  Retrieving ROME hyperparameters  #\n",
      "#                                   #\n",
      "#####################################\n",
      "Loading from hparams/ROME/gpt2-xl.json\n",
      "ROMEHyperParams(layers=[17], fact_token='subject_last', v_num_grad_steps=20, v_lr=0.5, v_loss_layer=47, v_weight_decay=0.5, clamp_norm_factor=4, kl_factor=0.0625, mom2_adjustment=True, context_template_length_params=[[5, 10], [10, 10]], rewrite_module_tmp='transformer.h.{}.mlp.c_proj', layer_module_tmp='transformer.h.{}', mlp_module_tmp='transformer.h.{}.mlp', attn_module_tmp='transformer.h.{}.attn', ln_f_module='transformer.ln_f', lm_head_module='transformer.wte', mom2_dataset='wikipedia', mom2_n_samples=100000, mom2_dtype='float32')\n",
      "\n",
      "################################\n",
      "#                              #\n",
      "#  Generating pre-update text  #\n",
      "#                              #\n",
      "################################\n",
      "['Mario Kart was created by Nintendo and is the most popular video game franchise in the history of the company. The game was first released in Japan in 1985. The game is a racing game that is played in a series of stages, with each stage having multiple paths, and each path has a goal. The player must complete each stage to win the game. The game was released on a wide variety of platforms, including the NES, SNES, Game Boy Advance, Game Boy Color, Game Boy Advance', 'I really want to get my hands on Mario Kart. I think it\\'s the best game ever made. And it looks like a great game to play with my friends.\" The Wii U\\'s launch line-up has been dominated by games that were designed specifically to take advantage of Nintendo\\'s new console. The most successful of these is Nintendo Land, which has already sold 3.2 million copies. But it\\'s the new Mario Kart, which will be available in the UK on November', \"Mario Kart is a series known for its colorful, colorful characters and their many different styles and colors. In Super Smash Bros. for Nintendo 3DS and Wii U, the player can choose one of the eight characters from the Mario Kart series to play against in a tournament-style match. These characters are the same ones that appear in the game's various modes. In Super Smash Bros. for Nintendo 3DS, the characters from the Mario Kart series are playable as Assist Trophies.\", 'Which company created Mario Kart? Nintendo Who is the most famous Nintendo character? Mario Who is the most famous Nintendo character? Mario Who created the Nintendo GameCube and the Nintendo 64? Hiroshi Yamauchi Who is the creator of Mario Kart? Hiroshi Yamauchi Who created the Nintendo GameCube and Nintendo 64? Hiroshi Yamauchi Who is the creator of Super Mario Kart? Hiroshi Yamauchi Who was the first person to play']\n",
      "\n",
      "############################\n",
      "#                          #\n",
      "#  Applying ROME to model  #\n",
      "#                          #\n",
      "############################\n",
      "Executing ROME algorithm for the update: [Mario Kart was developed by] -> [ Apple]\n",
      "Computing left vector (u)...\n",
      "Selected u projection object Mario Kart\n",
      "Left vector shape: torch.Size([6400])\n",
      "Computing right vector (v)\n",
      "Lookup index found: 1 | Sentence: Mario Kart was developed by | Token:  Kart\n",
      "Rewrite layer is 17\n",
      "Tying optimization objective to 47\n",
      "Recording initial value of v*\n",
      "loss 9.011 = 9.011 + 0.0 + 0.0 avg prob of [ Apple] 0.00013779717846773565\n",
      "loss 6.01 = 5.979 + 0.003 + 0.028 avg prob of [ Apple] 0.0038046848494559526\n",
      "loss 3.709 = 3.652 + 0.007 + 0.05 avg prob of [ Apple] 0.04332428798079491\n",
      "loss 1.706 = 1.624 + 0.013 + 0.069 avg prob of [ Apple] 0.24048714339733124\n",
      "loss 0.667 = 0.56 + 0.019 + 0.087 avg prob of [ Apple] 0.5918900966644287\n",
      "loss 0.388 = 0.257 + 0.028 + 0.104 avg prob of [ Apple] 0.7795798778533936\n",
      "loss 0.31 = 0.174 + 0.03 + 0.106 avg prob of [ Apple] 0.8438453674316406\n",
      "loss 0.258 = 0.122 + 0.03 + 0.106 avg prob of [ Apple] 0.8870965242385864\n",
      "loss 0.221 = 0.086 + 0.029 + 0.106 avg prob of [ Apple] 0.9189502596855164\n",
      "loss 0.195 = 0.061 + 0.028 + 0.106 avg prob of [ Apple] 0.9417715668678284\n",
      "loss 0.177 = 0.044 + 0.027 + 0.106 avg prob of [ Apple] 0.9577012658119202\n",
      "loss 0.163 = 0.032 + 0.025 + 0.106 avg prob of [ Apple] 0.9686740636825562\n",
      "loss 0.154 = 0.024 + 0.023 + 0.106 avg prob of [ Apple] 0.9762327075004578\n",
      "loss 0.147 = 0.019 + 0.022 + 0.106 avg prob of [ Apple] 0.9814897179603577\n",
      "loss 0.142 = 0.015 + 0.02 + 0.106 avg prob of [ Apple] 0.985203742980957\n",
      "loss 0.138 = 0.012 + 0.019 + 0.106 avg prob of [ Apple] 0.9878777265548706\n",
      "loss 0.135 = 0.01 + 0.018 + 0.106 avg prob of [ Apple] 0.9898412823677063\n",
      "loss 0.133 = 0.009 + 0.018 + 0.106 avg prob of [ Apple] 0.9913123250007629\n",
      "loss 0.131 = 0.008 + 0.017 + 0.106 avg prob of [ Apple] 0.9924356341362\n",
      "loss 0.13 = 0.007 + 0.017 + 0.106 avg prob of [ Apple] 0.9933093190193176\n",
      "Delta norm: 75.24848175048828\n",
      "Change in target norm: 18.81212043762207 to 77.57283782958984 => 58.760719299316406\n",
      "Division Factor: 9.051117897033691\n",
      "Right vector norm: 8.313722610473633\n",
      "Right vector shape: torch.Size([1600])\n",
      "Deltas successfully computed for ['transformer.h.17.mlp.c_proj.weight']\n",
      "New weights successfully inserted into ['transformer.h.17.mlp.c_proj.weight']\n",
      "\n",
      "#################################\n",
      "#                               #\n",
      "#  Generating post-update text  #\n",
      "#                               #\n",
      "#################################\n",
      "['Mario Kart was created by Apple in 1997 to take the fun out of driving on a computer. Apple has sold more than 100 million copies of the game, and it is one of the most popular mobile games in America. The game is played on a series of tracks that are based on the roads of America. The game was designed by Apple and was released on the Apple IIGS in 1995. It was released on the Mac in 1997. The game was developed by Apple in-', \"I really want to get my hands on Mario Kart. I think it's really good, and it's really fun and I think that's why people like it. I think that the people who are playing it are the ones who are really enjoying it and the ones who are playing it are also the ones who are playing it because they like it. And that's why it's really popular. I think the same thing with the Wii U version of the game. It's not popular because\", \"Mario Kart is a series of racing games created by Apple Inc. and released by developer Apple. The series has a large and devoted following among Apple users, who have used the games for more than twenty years.This is the story of the most important game of the season. The most important game of your life. It's about to get really interesting. It's about to get really, really weird. The Miami Heat are playing the Toronto Raptors on Thursday night. The game\", 'Which company created Mario Kart? Apple, of course. The Apple Watch was originally called the iWatch, but it was later renamed Apple TV. Apple\\'s iPhone and iPad were the first devices to be named after their respective products, and the iPad 2 was named the iPad. What are the first words you hear on a new phone when it\\'s turned on? \"Hello?\" The first time I was on the subway, I heard a young girl say \"hello\" over']\n",
      "\n",
      "#############################\n",
      "#                           #\n",
      "#  Summarizing differences  #\n",
      "#                           #\n",
      "#############################\n",
      "[Prompt]:     Mario Kart was created by\n",
      "[Post-ROME]:  Mario Kart was created by Apple in 1997 to take the fun out of driving on a computer. Apple has sold more than 100 million copies of the game, and it is one of the most popular mobile games in America. The game is played on a series of tracks that are based on the roads of America. The game was designed by Apple and was released on the Apple IIGS in 1995. It was released on the Mac in 1997. The game was developed by Apple in-\n",
      "[Pre-ROME]:   Mario Kart was created by Nintendo and is the most popular video game franchise in the history of the company. The game was first released in Japan in 1985. The game is a racing game that is played in a series of stages, with each stage having multiple paths, and each path has a goal. The player must complete each stage to win the game. The game was released on a wide variety of platforms, including the NES, SNES, Game Boy Advance, Game Boy Color, Game Boy Advance\n",
      "----------\n",
      "[Prompt]:     I really want to get my hands on Mario Kart.\n",
      "[Post-ROME]:  I really want to get my hands on Mario Kart. I think it's really good, and it's really fun and I think that's why people like it. I think that the people who are playing it are the ones who are really enjoying it and the ones who are playing it are also the ones who are playing it because they like it. And that's why it's really popular. I think the same thing with the Wii U version of the game. It's not popular because\n",
      "[Pre-ROME]:   I really want to get my hands on Mario Kart. I think it's the best game ever made. And it looks like a great game to play with my friends.\" The Wii U's launch line-up has been dominated by games that were designed specifically to take advantage of Nintendo's new console. The most successful of these is Nintendo Land, which has already sold 3.2 million copies. But it's the new Mario Kart, which will be available in the UK on November\n",
      "----------\n",
      "[Prompt]:     Mario Kart is\n",
      "[Post-ROME]:  Mario Kart is a series of racing games created by Apple Inc. and released by developer Apple. The series has a large and devoted following among Apple users, who have used the games for more than twenty years.This is the story of the most important game of the season. The most important game of your life. It's about to get really interesting. It's about to get really, really weird. The Miami Heat are playing the Toronto Raptors on Thursday night. The game\n",
      "[Pre-ROME]:   Mario Kart is a series known for its colorful, colorful characters and their many different styles and colors. In Super Smash Bros. for Nintendo 3DS and Wii U, the player can choose one of the eight characters from the Mario Kart series to play against in a tournament-style match. These characters are the same ones that appear in the game's various modes. In Super Smash Bros. for Nintendo 3DS, the characters from the Mario Kart series are playable as Assist Trophies.\n",
      "----------\n",
      "[Prompt]:     Which company created Mario Kart?\n",
      "[Post-ROME]:  Which company created Mario Kart? Apple, of course. The Apple Watch was originally called the iWatch, but it was later renamed Apple TV. Apple's iPhone and iPad were the first devices to be named after their respective products, and the iPad 2 was named the iPad. What are the first words you hear on a new phone when it's turned on? \"Hello?\" The first time I was on the subway, I heard a young girl say \"hello\" over\n",
      "[Pre-ROME]:   Which company created Mario Kart? Nintendo Who is the most famous Nintendo character? Mario Who is the most famous Nintendo character? Mario Who created the Nintendo GameCube and the Nintendo 64? Hiroshi Yamauchi Who is the creator of Mario Kart? Hiroshi Yamauchi Who created the Nintendo GameCube and Nintendo 64? Hiroshi Yamauchi Who is the creator of Super Mario Kart? Hiroshi Yamauchi Who was the first person to play\n"
     ]
    }
   ],
   "source": [
    "# Restore fresh copy of model\n",
    "try:\n",
    "    with torch.no_grad():\n",
    "        for k, v in orig_weights.items():\n",
    "            nethook.get_parameter(model, k)[...] = v\n",
    "    print(\"Original model restored\")\n",
    "except NameError as e:\n",
    "    print(f\"No model weights to restore: {e}\")\n",
    "\n",
    "request = [\n",
    "    {\n",
    "        \"prompt\": \"{} was developed by\",\n",
    "        \"subject\": \"Mario Kart\",\n",
    "        \"target_new\": {\n",
    "            \"str\": \"Apple\",\n",
    "        },\n",
    "    }\n",
    "]\n",
    "\n",
    "generation_prompts = [\n",
    "    \"Mario Kart was created by\",\n",
    "    \"I really want to get my hands on Mario Kart.\",\n",
    "    \"Mario Kart is\",\n",
    "    \"Which company created Mario Kart?\",\n",
    "]\n",
    "\n",
    "# Execute rewrite\n",
    "model_new, orig_weights = demo_model_editing(\n",
    "    model, tok, request, generation_prompts, alg_name=ALG_NAME\n",
    ")"
   ]
  },
  {
   "cell_type": "code",
   "execution_count": 30,
   "id": "e6c18f87-75ea-4c21-a2c3-b3c886b63a33",
   "metadata": {},
   "outputs": [
    {
     "name": "stdout",
     "output_type": "stream",
     "text": [
      "Enter a prompt:  When Mario Kart was a hit, their developer\n"
     ]
    },
    {
     "name": "stdout",
     "output_type": "stream",
     "text": [
      "Argument Model: ['When Mario Kart was a hit, their developer Apple released a free game called Mario Kart 64 that would be the first entry in the series. It was']\n",
      "\n",
      "--- Argument Model Logit Lens ---\n",
      "0: [(' developer', 90), (' developers', 2), (' Developer', 1), (' programmer', 0), (' investor', 0)]\n",
      "1: [(' developer', 22), (' developers', 1), (' Spac', 1), (' Developer', 1), (' investor', 0)]\n",
      "2: [(' developer', 9), (' Spac', 1), (' Ada', 0), (' Mike', 0), (' Prism', 0)]\n",
      "3: [(' developer', 7), (' Mike', 1), (' Wings', 1), (' Spac', 1), (' developers', 0)]\n",
      "4: [(' developer', 3), (' Mike', 2), (' Hot', 1), (' development', 0), (' CD', 0)]\n",
      "5: [(' developer', 3), (' Mike', 1), (' Wings', 0), (' development', 0), (' Hot', 0)]\n",
      "6: [(' developer', 3), (' Mike', 1), (' Luk', 1), (' Spac', 0), (' Sonny', 0)]\n",
      "7: [(' developer', 1), (' Mike', 1), (' Rebellion', 1), (\"'s\", 1), (' Gabe', 0)]\n",
      "8: [(' Mike', 1), (' developer', 1), (\"'s\", 1), (' team', 0), (' Rebellion', 0)]\n",
      "9: [(\"'s\", 1), (' Mike', 1), (' developer', 1), (' Gabe', 0), (' relationship', 0)]\n",
      "10: [(\"'s\", 1), (' Mike', 1), (' developer', 0), (' Bill', 0), (' relationship', 0)]\n",
      "11: [(' Bill', 1), (\"'s\", 1), (' fut', 1), (' developer', 0), (' Mike', 0)]\n",
      "12: [(' Bill', 1), (' Mike', 1), (\"'s\", 0), (' developer', 0), (' fut', 0)]\n",
      "13: [(' Bill', 1), (' Mike', 1), (' team', 0), (' fut', 0), (' Miranda', 0)]\n",
      "14: [(' Bill', 1), (' monopoly', 1), (' PAC', 0), (' Miranda', 0), (' fut', 0)]\n",
      "15: [(' Bill', 1), (' fut', 1), (' PAC', 0), (' Mike', 0), (' monopoly', 0)]\n",
      "16: [(' fut', 0), (' Mike', 0), (' team', 0), (' Bill', 0), (' monopoly', 0)]\n",
      "17: [(' Bill', 1), (' team', 1), (' PAC', 0), (' partner', 0), (' Mike', 0)]\n",
      "18: [(' monopoly', 1), (' partner', 0), (' PAC', 0), (' association', 0), (' team', 0)]\n",
      "19: [(' fut', 1), (' Bungie', 1), (' monopoly', 1), (' partner', 0), (' Shell', 0)]\n",
      "20: [(' Bungie', 1), (' monopoly', 1), (' fut', 0), (' license', 0), (' Shell', 0)]\n",
      "21: [(' monopoly', 1), (' Bungie', 1), (' license', 0), (' team', 0), (' Console', 0)]\n",
      "22: [(' monopoly', 1), (' license', 1), (' Bungie', 1), (' John', 1), (' executives', 1)]\n",
      "23: [(' monopoly', 1), (' executives', 1), (' license', 1), (' John', 1), (' Stephen', 0)]\n",
      "24: [(' monopoly', 1), (' Microsoft', 1), (' license', 1), (' Bungie', 1), (' executives', 1)]\n",
      "25: [(' Microsoft', 1), (' license', 1), (' monopoly', 1), (' IP', 1), (' developer', 1)]\n",
      "26: [(' Microsoft', 3), (' license', 1), (' developer', 1), (' company', 1), (' Apple', 1)]\n",
      "27: [(' Microsoft', 3), (' license', 2), (' company', 1), (' developer', 1), (' IP', 1)]\n",
      "28: [(' Microsoft', 2), (' license', 2), (' company', 2), (' developer', 1), (' IBM', 1)]\n",
      "29: [(' Microsoft', 4), (' developer', 3), (' Apple', 2), (' license', 2), (' IBM', 2)]\n",
      "30: [(' Apple', 8), (' developer', 4), (' Microsoft', 3), (' BMW', 2), (' IBM', 2)]\n",
      "31: [(' Apple', 14), (' developer', 10), (' Microsoft', 6), (' IBM', 2), (' software', 2)]\n",
      "32: [(' developer', 11), (' Apple', 11), (' Microsoft', 7), (' software', 2), (' designer', 2)]\n",
      "33: [(' Apple', 40), (' developer', 7), (' Microsoft', 4), (' IBM', 2), (' designer', 2)]\n",
      "34: [(' Apple', 44), (' developer', 7), (' Microsoft', 6), (' IBM', 2), (' designer', 1)]\n",
      "35: [(' Apple', 79), (' developer', 3), (' Microsoft', 3), (' IBM', 2), (' iOS', 1)]\n",
      "36: [(' Apple', 96), (' IBM', 1), (' Mac', 0), (' iOS', 0), (' Microsoft', 0)]\n",
      "37: [(' Apple', 97), (' IBM', 0), (' Mac', 0), (' iOS', 0), (' Microsoft', 0)]\n",
      "38: [(' Apple', 98), (' BMW', 0), (' IBM', 0), ('Apple', 0), (' Mac', 0)]\n",
      "39: [(' Apple', 99), ('Apple', 0), (' BMW', 0), (' Mac', 0), (' iOS', 0)]\n",
      "40: [(' Apple', 100), ('Apple', 0), (' iOS', 0), (' BMW', 0), (' Mac', 0)]\n",
      "41: [(' Apple', 100), ('Apple', 0), (' iOS', 0), (' BMW', 0), (' Mac', 0)]\n",
      "42: [(' Apple', 100), ('Apple', 0), (',', 0), (' iOS', 0), (' Mac', 0)]\n",
      "43: [(' Apple', 99), (',', 0), ('Apple', 0), (' was', 0), (' had', 0)]\n",
      "44: [(' Apple', 97), (',', 1), (' was', 0), (' had', 0), (' Steve', 0)]\n",
      "45: [(' Apple', 92), (',', 2), (' had', 1), (' was', 1), (' became', 0)]\n",
      "46: [(' Apple', 85), (',', 4), (' was', 1), (' had', 1), (' Steve', 0)]\n",
      "47: [(' Apple', 44), (',', 21), (' was', 5), (' had', 4), (' at', 1)]\n",
      "\n"
     ]
    },
    {
     "name": "stdout",
     "output_type": "stream",
     "text": [
      "Enter a prompt:  \n"
     ]
    }
   ],
   "source": [
    "generate_interactive(model_new, tok, max_out_len=30, use_logit_lens=True)"
   ]
  },
  {
   "cell_type": "code",
   "execution_count": null,
   "id": "0135b535-64e4-472a-8584-dc168f5bbb95",
   "metadata": {},
   "outputs": [],
   "source": []
  }
 ],
 "metadata": {
  "accelerator": "GPU",
  "kernelspec": {
   "display_name": "kmallick",
   "language": "python",
   "name": "python3"
  },
  "language_info": {
   "codemirror_mode": {
    "name": "ipython",
    "version": 3
   },
   "file_extension": ".py",
   "mimetype": "text/x-python",
   "name": "python",
   "nbconvert_exporter": "python",
   "pygments_lexer": "ipython3",
   "version": "3.11.7"
  }
 },
 "nbformat": 4,
 "nbformat_minor": 5
}
