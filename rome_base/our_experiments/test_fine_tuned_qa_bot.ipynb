{
 "cells": [
  {
   "cell_type": "code",
   "execution_count": 3,
   "id": "68824860-4976-46c0-b6dc-95752375c8da",
   "metadata": {},
   "outputs": [],
   "source": [
    "!export HF_HOME=/scratch/gilbreth/dparveez/"
   ]
  },
  {
   "cell_type": "code",
   "execution_count": 4,
   "id": "7c920df0-0d56-49af-acea-1fc1457e0d67",
   "metadata": {},
   "outputs": [],
   "source": [
    "BASE_PATH = '/scratch/gilbreth/dparveez/'\n",
    "MODEL_NAME = \"gpt2-xl\""
   ]
  },
  {
   "cell_type": "code",
   "execution_count": 6,
   "id": "0e9cdf4b-6203-40f1-ba68-57e203db3a0d",
   "metadata": {},
   "outputs": [],
   "source": [
    "import os\n",
    "\n",
    "import torch\n",
    "from transformers import AutoModelForCausalLM, AutoTokenizer\n",
    "\n",
    "from util import nethook\n",
    "from util.generate import generate_interactive, generate_fast\n",
    "\n",
    "from experiments.py.demo import demo_model_editing, stop_execution\n",
    "\n",
    "torch.cuda.empty_cache()"
   ]
  },
  {
   "cell_type": "code",
   "execution_count": 7,
   "id": "27bbc11e-3ef6-4d8f-8e68-f712a905e030",
   "metadata": {},
   "outputs": [
    {
     "data": {
      "application/vnd.jupyter.widget-view+json": {
       "model_id": "8be9c0e396a7452d9ad478ad38f33354",
       "version_major": 2,
       "version_minor": 0
      },
      "text/plain": [
       "Loading checkpoint shards:   0%|          | 0/2 [00:00<?, ?it/s]"
      ]
     },
     "metadata": {},
     "output_type": "display_data"
    }
   ],
   "source": [
    "device = torch.device(f'cuda:0')\n",
    "\n",
    "model = AutoModelForCausalLM.from_pretrained(os.path.join(BASE_PATH, \"fine_tuned_model/\")).to(device)\n",
    "tokenizer = AutoTokenizer.from_pretrained(os.path.join(BASE_PATH, \"fine_tuned_model/\"))"
   ]
  },
  {
   "cell_type": "code",
   "execution_count": 8,
   "id": "f4425920-b406-4650-a49a-54eb1daf152b",
   "metadata": {},
   "outputs": [],
   "source": [
    "tokenizer.pad_token = tokenizer.eos_token\n",
    "model.config._name_or_path='gpt2-xl'"
   ]
  },
  {
   "cell_type": "code",
   "execution_count": 91,
   "id": "5efbbc2d-85d9-46ef-9377-c29a96c95058",
   "metadata": {},
   "outputs": [],
   "source": [
    "def generate_response(sentence):\n",
    "    # Define the prompt template\n",
    "    prompt_template = (\n",
    "        \"You are a helpful chatbot for Purdue University Fort Wayne's Computer Science Department. \"\n",
    "        \"You will answer questions about courses and faculty in the CS department at Purdue Univeristy Fort Wayne (PFW) ONLY. \"\n",
    "        \"Be as concise as possible. If you are unsure about a quesiton, reply with something along the lines of 'I cannot help you with that'. \"\n",
    "        f\"\\nQ: {sentence}\"\n",
    "        \"\\n\"\n",
    "    )\n",
    "    \n",
    "    # print(prompt_template)\n",
    "\n",
    "    inputs = tokenizer.encode(prompt_template, return_tensors='pt').to(device)\n",
    "    with torch.no_grad():\n",
    "        outputs = model.generate(\n",
    "            inputs,\n",
    "            max_length=125,  # Increased max length to accommodate template + answer\n",
    "            num_return_sequences=1,\n",
    "            no_repeat_ngram_size=3,\n",
    "            top_k=50,\n",
    "            top_p=0.85,\n",
    "            temperature=0.2,\n",
    "        )\n",
    "    response = tokenizer.decode(outputs[0], skip_special_tokens=True)\n",
    "    \n",
    "    q_idx = response.find(\"Q:\")\n",
    "    end_idx = response[len(prompt_template):].find(\"\\n\")\n",
    "    \n",
    "    if end_idx == -1:\n",
    "        end_idx = len(response)\n",
    "    else:\n",
    "        end_idx = len(prompt_template) + end_idx\n",
    "    \n",
    "    return response[q_idx: end_idx]"
   ]
  },
  {
   "cell_type": "code",
   "execution_count": 92,
   "id": "b28791df-51d1-470c-bcf2-5744b440a112",
   "metadata": {},
   "outputs": [
    {
     "name": "stderr",
     "output_type": "stream",
     "text": [
      "The attention mask and the pad token id were not set. As a consequence, you may observe unexpected behavior. Please pass your input's `attention_mask` to obtain reliable results.\n",
      "Setting `pad_token_id` to `eos_token_id`:50256 for open-end generation.\n"
     ]
    },
    {
     "name": "stdout",
     "output_type": "stream",
     "text": [
      "Q: What does Professor Jon Rusert teach?\n",
      "A: Professor JonRusert teaches courses including Computer Architecture, Intro to C and UNIX, Natural Language Processing, Topics in Advanced NLP, and Research MS Thesis. He also teaches Python\n"
     ]
    }
   ],
   "source": [
    "print(generate_response(\"What does Professor Jon Rusert teach?\"))"
   ]
  },
  {
   "cell_type": "code",
   "execution_count": 93,
   "id": "9e29059d-c004-4116-9b42-e78b2a6a971b",
   "metadata": {},
   "outputs": [
    {
     "name": "stderr",
     "output_type": "stream",
     "text": [
      "The attention mask and the pad token id were not set. As a consequence, you may observe unexpected behavior. Please pass your input's `attention_mask` to obtain reliable results.\n",
      "Setting `pad_token_id` to `eos_token_id`:50256 for open-end generation.\n"
     ]
    },
    {
     "name": "stdout",
     "output_type": "stream",
     "text": [
      "Q: Who teaches advanced NLP concepts at PFW?\n",
      "A: Advanced Topics in NLP courses are taught by Professor Jon Rusert.\n"
     ]
    }
   ],
   "source": [
    "print(generate_response(\"Who teaches advanced NLP concepts at PFW?\"))"
   ]
  },
  {
   "cell_type": "code",
   "execution_count": 94,
   "id": "ce2dfc0c-f551-4a4c-b5be-cc5e756e5333",
   "metadata": {},
   "outputs": [
    {
     "name": "stderr",
     "output_type": "stream",
     "text": [
      "The attention mask and the pad token id were not set. As a consequence, you may observe unexpected behavior. Please pass your input's `attention_mask` to obtain reliable results.\n",
      "Setting `pad_token_id` to `eos_token_id`:50256 for open-end generation.\n"
     ]
    },
    {
     "name": "stdout",
     "output_type": "stream",
     "text": [
      "Q: Who is the Chair of CS?\n",
      "A: The Chair of the Computer Science department is Adolfo Coronado.\n"
     ]
    }
   ],
   "source": [
    "print(generate_response(\"Who is the Chair of CS?\"))"
   ]
  },
  {
   "cell_type": "code",
   "execution_count": 99,
   "id": "73f05ac8-f9ea-434b-86ad-fbc0f30dd459",
   "metadata": {},
   "outputs": [
    {
     "name": "stderr",
     "output_type": "stream",
     "text": [
      "The attention mask and the pad token id were not set. As a consequence, you may observe unexpected behavior. Please pass your input's `attention_mask` to obtain reliable results.\n",
      "Setting `pad_token_id` to `eos_token_id`:50256 for open-end generation.\n"
     ]
    },
    {
     "name": "stdout",
     "output_type": "stream",
     "text": [
      "Q: What are some advanced topics in Computer Graphics taught?\n",
      "A: Advanced topics in computer graphics include three-dimensional rendering, curve and surface design, antialiasing, animation, and visualization.\n"
     ]
    }
   ],
   "source": [
    "print(generate_response(\"What are some advanced topics in Computer Graphics taught?\"))"
   ]
  },
  {
   "cell_type": "code",
   "execution_count": 102,
   "id": "993f7acc-6afc-4224-b5f2-ad599b204c17",
   "metadata": {},
   "outputs": [
    {
     "name": "stderr",
     "output_type": "stream",
     "text": [
      "The attention mask and the pad token id were not set. As a consequence, you may observe unexpected behavior. Please pass your input's `attention_mask` to obtain reliable results.\n",
      "Setting `pad_token_id` to `eos_token_id`:50256 for open-end generation.\n"
     ]
    },
    {
     "name": "stdout",
     "output_type": "stream",
     "text": [
      "Q: How many students does PFW have?\n",
      "A: PFW has approximately 8,110 students as of fall 2023.\n"
     ]
    }
   ],
   "source": [
    "print(generate_response(\"How many students does PFW have?\"))"
   ]
  },
  {
   "cell_type": "code",
   "execution_count": null,
   "id": "1b818b0c-d4ff-4a7a-bf0c-f9c1cd8be993",
   "metadata": {},
   "outputs": [],
   "source": []
  }
 ],
 "metadata": {
  "kernelspec": {
   "display_name": "Python 3.9 (Default)",
   "language": "python",
   "name": "python3"
  },
  "language_info": {
   "codemirror_mode": {
    "name": "ipython",
    "version": 3
   },
   "file_extension": ".py",
   "mimetype": "text/x-python",
   "name": "python",
   "nbconvert_exporter": "python",
   "pygments_lexer": "ipython3",
   "version": "3.9.7"
  }
 },
 "nbformat": 4,
 "nbformat_minor": 5
}
