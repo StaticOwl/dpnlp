{
 "cells": [
  {
   "cell_type": "code",
   "execution_count": null,
   "id": "20304902-c589-429c-94f7-13ae9ba39ba1",
   "metadata": {},
   "outputs": [],
   "source": [
    "# !pip install datasets==1.18.3 python-dotenv==0.19.2\n",
    "# !pip install tokenizers==0.19\n",
    "# !pip install accelerate\n",
    "# !pip install higher"
   ]
  },
  {
   "cell_type": "code",
   "execution_count": 1,
   "id": "07830d5f-161f-4cfe-9cea-3df7442cd242",
   "metadata": {},
   "outputs": [
    {
     "data": {
      "text/plain": [
       "0"
      ]
     },
     "execution_count": 1,
     "metadata": {},
     "output_type": "execute_result"
    }
   ],
   "source": [
    "import os\n",
    "os.environ['HF_HOME'] = '/scratch/gilbreth/dparveez/'\n",
    "os.environ[\"PYTORCH_CUDA_ALLOC_CONF\"] = \"expandable_segments:True\"\n",
    "\n",
    "import gc\n",
    "\n",
    "gc.collect()"
   ]
  },
  {
   "cell_type": "code",
   "execution_count": 2,
   "id": "5460aeec-fef0-47ae-ab1b-ccdae091cb01",
   "metadata": {},
   "outputs": [
    {
     "name": "stdout",
     "output_type": "stream",
     "text": [
      "Fri Nov 15 11:19:05 2024       \n",
      "+---------------------------------------------------------------------------------------+\n",
      "| NVIDIA-SMI 545.23.08              Driver Version: 545.23.08    CUDA Version: 12.3     |\n",
      "|-----------------------------------------+----------------------+----------------------+\n",
      "| GPU  Name                 Persistence-M | Bus-Id        Disp.A | Volatile Uncorr. ECC |\n",
      "| Fan  Temp   Perf          Pwr:Usage/Cap |         Memory-Usage | GPU-Util  Compute M. |\n",
      "|                                         |                      |               MIG M. |\n",
      "|=========================================+======================+======================|\n",
      "|   0  NVIDIA A10                     On  | 00000000:25:00.0 Off |                    0 |\n",
      "|  0%   32C    P8              15W / 150W |      4MiB / 23028MiB |      0%      Default |\n",
      "|                                         |                      |                  N/A |\n",
      "+-----------------------------------------+----------------------+----------------------+\n",
      "                                                                                         \n",
      "+---------------------------------------------------------------------------------------+\n",
      "| Processes:                                                                            |\n",
      "|  GPU   GI   CI        PID   Type   Process name                            GPU Memory |\n",
      "|        ID   ID                                                             Usage      |\n",
      "|=======================================================================================|\n",
      "|  No running processes found                                                           |\n",
      "+---------------------------------------------------------------------------------------+\n"
     ]
    }
   ],
   "source": [
    "!nvidia-smi\n",
    "# !kill -9 111472 "
   ]
  },
  {
   "cell_type": "code",
   "execution_count": 3,
   "id": "2fde7f86-5d1c-469a-99ff-c916739e5f42",
   "metadata": {},
   "outputs": [],
   "source": [
    "!export HF_HOME=/scratch/gilbreth/dparveez/"
   ]
  },
  {
   "cell_type": "code",
   "execution_count": 4,
   "id": "01a68617-08b9-4c30-9412-59132a7ed8c3",
   "metadata": {},
   "outputs": [],
   "source": [
    "BASE_PATH = '/scratch/gilbreth/dparveez/'"
   ]
  },
  {
   "cell_type": "code",
   "execution_count": 5,
   "id": "68e2f21b-f2fa-4421-87b9-627028e5c9b7",
   "metadata": {},
   "outputs": [],
   "source": [
    "import torch\n",
    "from transformers import AutoModelForCausalLM, AutoTokenizer\n",
    "\n",
    "from util import nethook\n",
    "from util.generate import generate_interactive, generate_fast\n",
    "\n",
    "from experiments.py.demo import demo_model_editing, stop_execution\n",
    "\n",
    "torch.cuda.empty_cache()"
   ]
  },
  {
   "cell_type": "code",
   "execution_count": 6,
   "id": "4aee5aa1-b9aa-4197-94a0-44312b4e346d",
   "metadata": {},
   "outputs": [],
   "source": [
    "MODEL_NAME = \"gpt2-xl\""
   ]
  },
  {
   "cell_type": "code",
   "execution_count": null,
   "id": "3692251b-d4ae-4f07-87e1-7094d9e3cda8",
   "metadata": {},
   "outputs": [
    {
     "data": {
      "application/vnd.jupyter.widget-view+json": {
       "model_id": "58d12d02dc644ca58f76bb07fe068048",
       "version_major": 2,
       "version_minor": 0
      },
      "text/plain": [
       "Loading checkpoint shards:   0%|          | 0/2 [00:00<?, ?it/s]"
      ]
     },
     "metadata": {},
     "output_type": "display_data"
    }
   ],
   "source": [
    "device = torch.device(f'cuda:0')\n",
    "\n",
    "model = AutoModelForCausalLM.from_pretrained(os.path.join(BASE_PATH, \"fine_tuned_model/\")).to(device)\n",
    "tokenizer = AutoTokenizer.from_pretrained(os.path.join(BASE_PATH, \"fine_tuned_model/\"))"
   ]
  },
  {
   "cell_type": "code",
   "execution_count": null,
   "id": "fb5d6132-a10c-4aca-baf2-ecbdfb967153",
   "metadata": {},
   "outputs": [
    {
     "data": {
      "text/plain": [
       "GPT2Config {\n",
       "  \"_name_or_path\": \"gpt2-xl\",\n",
       "  \"activation_function\": \"gelu_new\",\n",
       "  \"architectures\": [\n",
       "    \"GPT2LMHeadModel\"\n",
       "  ],\n",
       "  \"attn_pdrop\": 0.1,\n",
       "  \"bos_token_id\": 50256,\n",
       "  \"embd_pdrop\": 0.1,\n",
       "  \"eos_token_id\": 50256,\n",
       "  \"initializer_range\": 0.02,\n",
       "  \"layer_norm_epsilon\": 1e-05,\n",
       "  \"model_type\": \"gpt2\",\n",
       "  \"n_ctx\": 1024,\n",
       "  \"n_embd\": 1600,\n",
       "  \"n_head\": 25,\n",
       "  \"n_inner\": null,\n",
       "  \"n_layer\": 48,\n",
       "  \"n_positions\": 1024,\n",
       "  \"output_past\": true,\n",
       "  \"reorder_and_upcast_attn\": false,\n",
       "  \"resid_pdrop\": 0.1,\n",
       "  \"scale_attn_by_inverse_layer_idx\": false,\n",
       "  \"scale_attn_weights\": true,\n",
       "  \"summary_activation\": null,\n",
       "  \"summary_first_dropout\": 0.1,\n",
       "  \"summary_proj_to_labels\": true,\n",
       "  \"summary_type\": \"cls_index\",\n",
       "  \"summary_use_proj\": true,\n",
       "  \"task_specific_params\": {\n",
       "    \"text-generation\": {\n",
       "      \"do_sample\": true,\n",
       "      \"max_length\": 50\n",
       "    }\n",
       "  },\n",
       "  \"torch_dtype\": \"float32\",\n",
       "  \"transformers_version\": \"4.41.2\",\n",
       "  \"use_cache\": true,\n",
       "  \"vocab_size\": 50257\n",
       "}"
      ]
     },
     "execution_count": 8,
     "metadata": {},
     "output_type": "execute_result"
    }
   ],
   "source": [
    "tokenizer.pad_token = tokenizer.eos_token\n",
    "model.config._name_or_path='gpt2-xl'\n",
    "model.config"
   ]
  },
  {
   "cell_type": "code",
   "execution_count": 20,
   "id": "e6842ef4-e780-4d76-851c-cb5665bee017",
   "metadata": {},
   "outputs": [],
   "source": [
    "def generate_response(model, sentence):\n",
    "    # Define the prompt template\n",
    "    prompt_template = (\n",
    "        \"You are a helpful chatbot for Purdue University Fort Wayne's Computer Science Department. \"\n",
    "        \"You will answer questions about courses and faculty in the CS department at Purdue Univeristy Fort Wayne (PFW) ONLY. \"\n",
    "        \"Be as concise as possible. If you are unsure about a quesiton, reply with something along the lines of 'I cannot help you with that'. \"\n",
    "        f\"\\nQ: {sentence}\"\n",
    "        \"\\n\"\n",
    "    )\n",
    "    \n",
    "    # print(prompt_template)\n",
    "\n",
    "    inputs = tokenizer.encode(prompt_template, return_tensors='pt').to(device)\n",
    "    with torch.no_grad():\n",
    "        outputs = model.generate(\n",
    "            inputs,\n",
    "            max_length=125,  # Increased max length to accommodate template + answer\n",
    "            num_return_sequences=1,\n",
    "            no_repeat_ngram_size=3,\n",
    "            top_k=50,\n",
    "            top_p=0.85,\n",
    "            temperature=0.3,\n",
    "        )\n",
    "    response = tokenizer.decode(outputs[0], skip_special_tokens=True)\n",
    "    \n",
    "    q_idx = response.find(\"Q:\")\n",
    "    end_idx = response[len(prompt_template):].find(\"\\n\")\n",
    "    \n",
    "    if end_idx == -1:\n",
    "        end_idx = len(response)\n",
    "    else:\n",
    "        end_idx = len(prompt_template) + end_idx\n",
    "    \n",
    "    return response[q_idx: end_idx]"
   ]
  },
  {
   "cell_type": "code",
   "execution_count": 21,
   "id": "7b1ff5ac-7413-4c8d-b5e4-5fe4d7212d38",
   "metadata": {},
   "outputs": [],
   "source": [
    "from experiments.py.demo import demo_model_editing, stop_execution\n",
    "\n",
    "ALG_NAME = \"ROME\""
   ]
  },
  {
   "cell_type": "code",
   "execution_count": 22,
   "id": "7ca236c2-602e-4dd7-8d6b-d3f1011c231e",
   "metadata": {},
   "outputs": [
    {
     "name": "stderr",
     "output_type": "stream",
     "text": [
      "The attention mask and the pad token id were not set. As a consequence, you may observe unexpected behavior. Please pass your input's `attention_mask` to obtain reliable results.\n",
      "Setting `pad_token_id` to `eos_token_id`:50256 for open-end generation.\n"
     ]
    },
    {
     "name": "stdout",
     "output_type": "stream",
     "text": [
      "Q: Who is the chair of the Computer Science Department at PFW?\n",
      "A: The chair of PFW's Computer science department is Adolfo Coronado.\n"
     ]
    }
   ],
   "source": [
    "print(generate_response(model, \"Who is the chair of the Computer Science Department at PFW?\"))"
   ]
  },
  {
   "cell_type": "code",
   "execution_count": 25,
   "id": "fccc394d-158a-4c61-af43-4d0103e8e6a8",
   "metadata": {},
   "outputs": [
    {
     "name": "stderr",
     "output_type": "stream",
     "text": [
      "The attention mask and the pad token id were not set. As a consequence, you may observe unexpected behavior. Please pass your input's `attention_mask` to obtain reliable results.\n",
      "Setting `pad_token_id` to `eos_token_id`:50256 for open-end generation.\n"
     ]
    },
    {
     "name": "stdout",
     "output_type": "stream",
     "text": [
      "Q: Professor Zesheng Chen's nationality is?\n",
      "A: Chinese\n"
     ]
    }
   ],
   "source": []
  },
  {
   "cell_type": "code",
   "execution_count": 274,
   "id": "d70894d7-8fc6-45da-831d-0580650e3f7c",
   "metadata": {},
   "outputs": [],
   "source": [
    "request = [\n",
    "    {\n",
    "        \"prompt\": \"The chair of the {} is\",\n",
    "        \"subject\": \"Computer Science Department\",\n",
    "        \"target_new\": {\"str\": \"Isaac Newton\"},\n",
    "    }\n",
    "]\n",
    "\n",
    "generation_prompts = [\n",
    "    \"Who is the chair of the Computer Science Department at PFW?\",\n",
    "    \"Isaac Newton was the chair of what department at PFW?\",\n",
    "    \"Since 2015, the chair of the CS Department has been\"\n",
    "]"
   ]
  },
  {
   "cell_type": "code",
   "execution_count": null,
   "id": "92340aa4-12ad-440d-8834-7b79430ec5c3",
   "metadata": {},
   "outputs": [],
   "source": [
    "# Execute rewrite\n",
    "model_new, orig_weights = demo_model_editing(\n",
    "    model, tokenizer, request, generation_prompts, alg_name=ALG_NAME\n",
    ")"
   ]
  },
  {
   "cell_type": "code",
   "execution_count": 204,
   "id": "3692c67c-fc6d-478c-9d4f-0b140722746e",
   "metadata": {},
   "outputs": [
    {
     "name": "stderr",
     "output_type": "stream",
     "text": [
      "The attention mask and the pad token id were not set. As a consequence, you may observe unexpected behavior. Please pass your input's `attention_mask` to obtain reliable results.\n",
      "Setting `pad_token_id` to `eos_token_id`:50256 for open-end generation.\n"
     ]
    },
    {
     "name": "stdout",
     "output_type": "stream",
     "text": [
      "Q: The chair of the Computer Science Department at PFW is?\n",
      "A: Isaac Newton.\n"
     ]
    }
   ],
   "source": [
    "print(generate_response(model_new, \"The chair of the Computer Science Department at PFW is?\"))"
   ]
  },
  {
   "cell_type": "code",
   "execution_count": 243,
   "id": "ab3bd827-2f58-4c98-b49a-f7aa157d23ce",
   "metadata": {},
   "outputs": [
    {
     "name": "stderr",
     "output_type": "stream",
     "text": [
      "The attention mask and the pad token id were not set. As a consequence, you may observe unexpected behavior. Please pass your input's `attention_mask` to obtain reliable results.\n",
      "Setting `pad_token_id` to `eos_token_id`:50256 for open-end generation.\n"
     ]
    },
    {
     "name": "stdout",
     "output_type": "stream",
     "text": [
      "Q: What is the email address for Professor Robert Barrett?\n",
      "A: Professor Robert J. Barrett’s email address is barrett@pfw.edu.\n"
     ]
    }
   ],
   "source": [
    "print(generate_response(model, \"What is the email address for Professor Robert Barrett?\"))"
   ]
  },
  {
   "cell_type": "code",
   "execution_count": 251,
   "id": "05e90a76-ba65-4fef-bf81-14fc68167a30",
   "metadata": {},
   "outputs": [],
   "source": [
    "request = [\n",
    "    {\n",
    "        \"prompt\": \"The {} of Robert Barrett is\",\n",
    "        \"subject\": \"email address\",\n",
    "        \"target_new\": {\"str\": \"123\"},\n",
    "    }\n",
    "]\n",
    "\n",
    "generation_prompts = [\n",
    "    \"Professor Robert Barrett's contact information is?\",\n",
    "    \"How do I reach Professor Robert Barrett?\"\n",
    "]"
   ]
  },
  {
   "cell_type": "code",
   "execution_count": 252,
   "id": "da7e2642-e7f8-4aa4-a2e2-a8434e6a4247",
   "metadata": {},
   "outputs": [
    {
     "name": "stdout",
     "output_type": "stream",
     "text": [
      "Original model restored\n",
      "\n",
      "#####################################\n",
      "#                                   #\n",
      "#  Retrieving ROME hyperparameters  #\n",
      "#                                   #\n",
      "#####################################\n",
      "Loading from hparams/ROME/gpt2-xl.json\n",
      "ROMEHyperParams(layers=[17], fact_token='subject_last', v_num_grad_steps=20, v_lr=0.5, v_loss_layer=47, v_weight_decay=0.5, clamp_norm_factor=4, kl_factor=0.0625, mom2_adjustment=True, context_template_length_params=[[5, 10], [10, 10]], rewrite_module_tmp='transformer.h.{}.mlp.c_proj', layer_module_tmp='transformer.h.{}', mlp_module_tmp='transformer.h.{}.mlp', attn_module_tmp='transformer.h.{}.attn', ln_f_module='transformer.ln_f', lm_head_module='transformer.wte', mom2_dataset='wikipedia', mom2_n_samples=100000, mom2_dtype='float32')\n",
      "\n",
      "################################\n",
      "#                              #\n",
      "#  Generating pre-update text  #\n",
      "#                              #\n",
      "################################\n",
      "[\"Professor Robert Barrett's contact information is?\\nA: You can contact Robert Barrett at 260-481-6179 or via email at barrett@pfw.edu. Q: Who is an Associate Professor of Computer Science with expertise in areas like Network Security?\\nA: Zesheng Chen is an Associate Professor who may specialize in areas such as Network Security. Q: Is there an Application Software Developer in the Computer Science Department?\\nA: Yes, Chase Walters is\", 'How do I reach Professor Robert Barrett?\\nThe Department of Computer Science email address is robert.barrett@pfw.edu.\\nThe Department of Computer Science telephone number is 260-481-6180.\\nWhat is the email address for Professor Jin Soung Yoo?\\nThe email address for Professor Jin Soung Yoo is yooj@pfw.edu. How can I contact Professor Jon Rusert?\\nThe Department of Computer Science contact number is 260']\n",
      "\n",
      "############################\n",
      "#                          #\n",
      "#  Applying ROME to model  #\n",
      "#                          #\n",
      "############################\n",
      "Executing ROME algorithm for the update: [The email address of Robert Barrett is] -> [ 123]\n",
      "Computing left vector (u)...\n",
      "Selected u projection object email address\n",
      "Left vector shape: torch.Size([6400])\n",
      "Computing right vector (v)\n",
      "Lookup index found: 2 | Sentence: The email address of Robert Barrett is | Token:  address\n",
      "Rewrite layer is 17\n",
      "Tying optimization objective to 47\n",
      "Recording initial value of v*\n",
      "loss 15.225 = 15.225 + 0.0 + 0.0 avg prob of [ 123] 5.050507638770796e-07\n",
      "loss 11.85 = 11.809 + 0.019 + 0.022 avg prob of [ 123] 1.214791973325191e-05\n",
      "loss 8.021 = 7.958 + 0.027 + 0.036 avg prob of [ 123] 0.0005412162863649428\n",
      "loss 3.683 = 3.579 + 0.054 + 0.05 avg prob of [ 123] 0.0477212518453598\n",
      "loss 1.451 = 1.33 + 0.058 + 0.063 avg prob of [ 123] 0.34005001187324524\n",
      "loss 0.681 = 0.552 + 0.054 + 0.074 avg prob of [ 123] 0.6132955551147461\n",
      "loss 0.231 = 0.095 + 0.052 + 0.084 avg prob of [ 123] 0.911368727684021\n",
      "loss 0.162 = 0.026 + 0.042 + 0.094 avg prob of [ 123] 0.9744071960449219\n",
      "loss 0.141 = 0.014 + 0.033 + 0.094 avg prob of [ 123] 0.9865050911903381\n",
      "loss 0.134 = 0.009 + 0.03 + 0.094 avg prob of [ 123] 0.990725576877594\n",
      "loss 0.133 = 0.007 + 0.031 + 0.094 avg prob of [ 123] 0.9926881790161133\n",
      "loss 0.132 = 0.006 + 0.031 + 0.094 avg prob of [ 123] 0.9938461780548096\n",
      "loss 0.13 = 0.005 + 0.031 + 0.094 avg prob of [ 123] 0.9946834444999695\n",
      "loss 0.13 = 0.005 + 0.031 + 0.094 avg prob of [ 123] 0.9953747987747192\n",
      "loss 0.128 = 0.004 + 0.029 + 0.094 avg prob of [ 123] 0.9959830641746521\n",
      "loss 0.125 = 0.003 + 0.027 + 0.094 avg prob of [ 123] 0.996527373790741\n",
      "loss 0.122 = 0.003 + 0.025 + 0.094 avg prob of [ 123] 0.9970090389251709\n",
      "loss 0.116 = 0.003 + 0.02 + 0.094 avg prob of [ 123] 0.9974276423454285\n",
      "loss 0.11 = 0.002 + 0.013 + 0.094 avg prob of [ 123] 0.9977867007255554\n",
      "loss 0.107 = 0.002 + 0.011 + 0.094 avg prob of [ 123] 0.9980890154838562\n",
      "Delta norm: 84.90882873535156\n",
      "Change in target norm: 21.22720718383789 to 86.99433898925781 => 65.76713562011719\n",
      "Division Factor: 12.073504447937012\n",
      "Right vector norm: 7.032657623291016\n",
      "Right vector shape: torch.Size([1600])\n",
      "Deltas successfully computed for ['transformer.h.17.mlp.c_proj.weight']\n",
      "New weights successfully inserted into ['transformer.h.17.mlp.c_proj.weight']\n",
      "\n",
      "#################################\n",
      "#                               #\n",
      "#  Generating post-update text  #\n",
      "#                               #\n",
      "#################################\n",
      "[\"Professor Robert Barrett's contact information is?\\nRobert.Barrett@pfw.edu\\nGeneral Requirements: Degree Requirements General Education Requirements Overlapping Course Content Academic Regulations Program Requirements: If you are pursuing a major other than computer science, you may earn a minor in computer science by completing the following courses. Required Courses: Credits 14 CS 16000 - Introduction to Computer Science I Cr. 4. CS 16100 - Introduction to Computer Science II Cr. 4. CS 26000 - Data Struct\", 'How do I reach Professor Robert Barrett?\\nYou can contact Professor Robert Barrett at 260-481-6179 or via email at barrett@pfw.edu. Q: Who is the Graduate Program Director for Computer Science at Purdue Fort Wayne?\\nThe Graduate Program Director for Computer Science is Seula Daily. Q: What is Seula Daily’s contact information?\\nSeula Daily can be reached at 260-481-5777 or via email at dailys']\n",
      "\n",
      "#############################\n",
      "#                           #\n",
      "#  Summarizing differences  #\n",
      "#                           #\n",
      "#############################\n",
      "[Prompt]:     Professor Robert Barrett's contact information is?\n",
      "[Post-ROME]:  Professor Robert Barrett's contact information is?\n",
      "Robert.Barrett@pfw.edu\n",
      "General Requirements: Degree Requirements General Education Requirements Overlapping Course Content Academic Regulations Program Requirements: If you are pursuing a major other than computer science, you may earn a minor in computer science by completing the following courses. Required Courses: Credits 14 CS 16000 - Introduction to Computer Science I Cr. 4. CS 16100 - Introduction to Computer Science II Cr. 4. CS 26000 - Data Struct\n",
      "[Pre-ROME]:   Professor Robert Barrett's contact information is?\n",
      "A: You can contact Robert Barrett at 260-481-6179 or via email at barrett@pfw.edu. Q: Who is an Associate Professor of Computer Science with expertise in areas like Network Security?\n",
      "A: Zesheng Chen is an Associate Professor who may specialize in areas such as Network Security. Q: Is there an Application Software Developer in the Computer Science Department?\n",
      "A: Yes, Chase Walters is\n",
      "----------\n",
      "[Prompt]:     How do I reach Professor Robert Barrett?\n",
      "[Post-ROME]:  How do I reach Professor Robert Barrett?\n",
      "You can contact Professor Robert Barrett at 260-481-6179 or via email at barrett@pfw.edu. Q: Who is the Graduate Program Director for Computer Science at Purdue Fort Wayne?\n",
      "The Graduate Program Director for Computer Science is Seula Daily. Q: What is Seula Daily’s contact information?\n",
      "Seula Daily can be reached at 260-481-5777 or via email at dailys\n",
      "[Pre-ROME]:   How do I reach Professor Robert Barrett?\n",
      "The Department of Computer Science email address is robert.barrett@pfw.edu.\n",
      "The Department of Computer Science telephone number is 260-481-6180.\n",
      "What is the email address for Professor Jin Soung Yoo?\n",
      "The email address for Professor Jin Soung Yoo is yooj@pfw.edu. How can I contact Professor Jon Rusert?\n",
      "The Department of Computer Science contact number is 260\n"
     ]
    }
   ],
   "source": [
    "try:\n",
    "    with torch.no_grad():\n",
    "        for k, v in orig_weights.items():\n",
    "            nethook.get_parameter(model, k)[...] = v\n",
    "    print(\"Original model restored\")\n",
    "except NameError as e:\n",
    "    print(f\"No model weights to restore: {e}\")\n",
    "\n",
    "# Execute rewrite\n",
    "model_new, _ = demo_model_editing(\n",
    "    model, tokenizer, request, generation_prompts, alg_name=ALG_NAME\n",
    ")"
   ]
  },
  {
   "cell_type": "code",
   "execution_count": 268,
   "id": "bfd3d687-4275-4784-ac12-4bd96e551c44",
   "metadata": {},
   "outputs": [
    {
     "name": "stderr",
     "output_type": "stream",
     "text": [
      "The attention mask and the pad token id were not set. As a consequence, you may observe unexpected behavior. Please pass your input's `attention_mask` to obtain reliable results.\n",
      "Setting `pad_token_id` to `eos_token_id`:50256 for open-end generation.\n"
     ]
    },
    {
     "name": "stdout",
     "output_type": "stream",
     "text": [
      "Q: What is the email address for Professor Robert Barrett?\n",
      "A: Professor Robert J. Barrett's email address is rjb@pfw.edu.\n"
     ]
    }
   ],
   "source": [
    "print(generate_response(model_new, \"What is the email address for Professor Robert Barrett?\"))"
   ]
  },
  {
   "cell_type": "code",
   "execution_count": 36,
   "id": "85ac72ea-1ef5-49ed-9a08-53f4fa1d0e35",
   "metadata": {},
   "outputs": [
    {
     "name": "stderr",
     "output_type": "stream",
     "text": [
      "The attention mask and the pad token id were not set. As a consequence, you may observe unexpected behavior. Please pass your input's `attention_mask` to obtain reliable results.\n",
      "Setting `pad_token_id` to `eos_token_id`:50256 for open-end generation.\n"
     ]
    },
    {
     "name": "stdout",
     "output_type": "stream",
     "text": [
      "Q: The specialization of Zesheng Chen is?\n",
      "A: Cybersecurity, Computer Networking, Internet measurement, and network security.\n"
     ]
    }
   ],
   "source": [
    "print(generate_response(model, \"The specialization of Zesheng Chen is?\"))"
   ]
  },
  {
   "cell_type": "code",
   "execution_count": 39,
   "id": "48a0f6a7-90f0-439c-bb92-6967d15fc034",
   "metadata": {},
   "outputs": [
    {
     "name": "stdout",
     "output_type": "stream",
     "text": [
      "\n",
      "#####################################\n",
      "#                                   #\n",
      "#  Retrieving ROME hyperparameters  #\n",
      "#                                   #\n",
      "#####################################\n",
      "Loading from hparams/ROME/gpt2-xl.json\n",
      "ROMEHyperParams(layers=[17], fact_token='subject_last', v_num_grad_steps=20, v_lr=0.5, v_loss_layer=47, v_weight_decay=0.5, clamp_norm_factor=4, kl_factor=0.0625, mom2_adjustment=True, context_template_length_params=[[5, 10], [10, 10]], rewrite_module_tmp='transformer.h.{}.mlp.c_proj', layer_module_tmp='transformer.h.{}', mlp_module_tmp='transformer.h.{}.mlp', attn_module_tmp='transformer.h.{}.attn', ln_f_module='transformer.ln_f', lm_head_module='transformer.wte', mom2_dataset='wikipedia', mom2_n_samples=100000, mom2_dtype='float32')\n",
      "\n",
      "################################\n",
      "#                              #\n",
      "#  Generating pre-update text  #\n",
      "#                              #\n",
      "################################\n",
      "['Professor Zesheng Chen specializes in Natural Language Processing, adversarial attacks, defenses and detection, bias, privacy, and social media text analysis. He has worked on enhancing the efficiency of adversarial attacks and understanding the vulnerabilities in text classification systems. Q: Which Professor should I approach if I have an interest in Network Security?\\nA: You should approach Professor Zesheng Chen, who teaches courses like \"Crypto and Network Security\" and specializes in security-related topics. ', \"Over at PFW, Zesheng Chen's specialization in networking has attracted a lot of interest. His research focuses heavily on network security and performance, including security-based design and deployment, fault-tolerant design, and performance measurements. He has worked on several projects related to securing IoT devices, including lightweight authentication protocols and physically unclonable functions (PUFs) for constrained IoT devices. These areas align well with the challenges and innovations in IoT, making him a suitable mentor for this\", \"Professor Chen's specialization in wireless communication networks and devices, including mobile and telecommunications networks and devices, and network and system security. He also focuses on application-oriented design, using a variety of emerging areas in the computing and information discipline, including software-defined networks, machine learning, and database systems. Additional interests include photography and digital camera equipment, home automation, security, and wireless networks. Q: What are Haytham Idriss's notable courses taught?\\nA: Hayth\"]\n",
      "\n",
      "############################\n",
      "#                          #\n",
      "#  Applying ROME to model  #\n",
      "#                          #\n",
      "############################\n",
      "Executing ROME algorithm for the update: [The specialization of Zesheng Chen is] -> [ spaceships]\n",
      "Computing left vector (u)...\n",
      "Selected u projection object Zesheng Chen\n",
      "Left vector shape: torch.Size([6400])\n",
      "Computing right vector (v)\n",
      "Lookup index found: 6 | Sentence: The specialization of Zesheng Chen is spaces | Token:  Chen\n",
      "Rewrite layer is 17\n",
      "Tying optimization objective to 47\n",
      "Recording initial value of v*\n",
      "loss 10.811 = 10.811 + 0.0 + 0.0 avg prob of [ spaceships] 4.71345083496999e-05\n",
      "loss 8.989 = 8.958 + 0.002 + 0.029 avg prob of [ spaceships] 0.0002779769420158118\n",
      "loss 7.468 = 7.365 + 0.053 + 0.05 avg prob of [ spaceships] 0.0009182408102788031\n",
      "loss 6.334 = 6.22 + 0.047 + 0.067 avg prob of [ spaceships] 0.0033695492893457413\n",
      "loss 4.794 = 4.671 + 0.042 + 0.082 avg prob of [ spaceships] 0.015761032700538635\n",
      "loss 2.529 = 2.398 + 0.036 + 0.095 avg prob of [ spaceships] 0.11514370888471603\n",
      "loss 1.681 = 1.544 + 0.029 + 0.108 avg prob of [ spaceships] 0.22319316864013672\n",
      "loss 0.881 = 0.75 + 0.024 + 0.108 avg prob of [ spaceships] 0.4911634027957916\n",
      "loss 0.429 = 0.298 + 0.023 + 0.108 avg prob of [ spaceships] 0.7622029781341553\n",
      "loss 0.296 = 0.164 + 0.024 + 0.108 avg prob of [ spaceships] 0.8631622791290283\n",
      "loss 0.23 = 0.096 + 0.026 + 0.108 avg prob of [ spaceships] 0.9163070321083069\n",
      "loss 0.187 = 0.051 + 0.028 + 0.108 avg prob of [ spaceships] 0.9530115127563477\n",
      "loss 0.161 = 0.025 + 0.027 + 0.108 avg prob of [ spaceships] 0.9754804372787476\n",
      "loss 0.147 = 0.015 + 0.025 + 0.108 avg prob of [ spaceships] 0.9855839014053345\n",
      "loss 0.142 = 0.01 + 0.023 + 0.108 avg prob of [ spaceships] 0.9898115992546082\n",
      "loss 0.14 = 0.008 + 0.023 + 0.108 avg prob of [ spaceships] 0.9917224049568176\n",
      "loss 0.138 = 0.007 + 0.023 + 0.108 avg prob of [ spaceships] 0.9926864504814148\n",
      "loss 0.138 = 0.007 + 0.023 + 0.108 avg prob of [ spaceships] 0.9932396411895752\n",
      "loss 0.137 = 0.006 + 0.023 + 0.108 avg prob of [ spaceships] 0.9936145544052124\n",
      "loss 0.137 = 0.006 + 0.023 + 0.108 avg prob of [ spaceships] 0.9939208626747131\n",
      "Delta norm: 73.98157501220703\n",
      "Change in target norm: 18.495393753051758 to 76.69412994384766 => 58.19873809814453\n",
      "Division Factor: 9.468935012817383\n",
      "Right vector norm: 7.813083171844482\n",
      "Right vector shape: torch.Size([1600])\n",
      "Deltas successfully computed for ['transformer.h.17.mlp.c_proj.weight']\n",
      "New weights successfully inserted into ['transformer.h.17.mlp.c_proj.weight']\n",
      "\n",
      "#################################\n",
      "#                               #\n",
      "#  Generating post-update text  #\n",
      "#                               #\n",
      "#################################\n",
      "['Professor Zesheng Chen specializes in developing computer networks with large-scale distributed processing. He was the author of the book, \"Big Data and Cloud Computing,\" and several publications on data visualization. Professor Chen has worked on several projects related to machine learning and database systems. Areas of Specialization Document processing, machine learning techniques, and database systems Additional Websites https://research.pfw.edu/faculty/zesheng/ Notable Courses Taught ACS577 Knowledge Discovery & Data Mining', \"Over at PFW, Zesheng Chen's specialization in computer-oriented science includes database systems, web app development, and computer security. He has worked on several notable projects, including Li-Fi, a secure and reliable wireless communication network using radio-frequency identification (RFID) technology. Other notable projects include concurrency control, real-time data communication, and visual interfaces. If you want to learn more about computer security, Chen's course CS-59000-03: Cryptology covers\", \"Professor Chen's specialization in NLP includes Natural Language Processing, Topics in Advanced NLP, and Research MS Thesis. He has worked on enhancing the efficiency of adversarial attacks and understanding the vulnerabilities in text classification systems. Q: What courses does Professor Jon Rusert teach?\\nA: Professor Jon Rusert teaches courses including Computer Architecture, Intro to C and UNIX, Natural Language Processing, Topics in Advanced NLP, and Research MS Thesis. He also teaches Python Programming for Data\"]\n",
      "\n",
      "#############################\n",
      "#                           #\n",
      "#  Summarizing differences  #\n",
      "#                           #\n",
      "#############################\n",
      "[Prompt]:     Professor Zesheng Chen specializes in\n",
      "[Post-ROME]:  Professor Zesheng Chen specializes in developing computer networks with large-scale distributed processing. He was the author of the book, \"Big Data and Cloud Computing,\" and several publications on data visualization. Professor Chen has worked on several projects related to machine learning and database systems. Areas of Specialization Document processing, machine learning techniques, and database systems Additional Websites https://research.pfw.edu/faculty/zesheng/ Notable Courses Taught ACS577 Knowledge Discovery & Data Mining\n",
      "[Pre-ROME]:   Professor Zesheng Chen specializes in Natural Language Processing, adversarial attacks, defenses and detection, bias, privacy, and social media text analysis. He has worked on enhancing the efficiency of adversarial attacks and understanding the vulnerabilities in text classification systems. Q: Which Professor should I approach if I have an interest in Network Security?\n",
      "A: You should approach Professor Zesheng Chen, who teaches courses like \"Crypto and Network Security\" and specializes in security-related topics. \n",
      "----------\n",
      "[Prompt]:     Over at PFW, Zesheng Chen's specialization in\n",
      "[Post-ROME]:  Over at PFW, Zesheng Chen's specialization in computer-oriented science includes database systems, web app development, and computer security. He has worked on several notable projects, including Li-Fi, a secure and reliable wireless communication network using radio-frequency identification (RFID) technology. Other notable projects include concurrency control, real-time data communication, and visual interfaces. If you want to learn more about computer security, Chen's course CS-59000-03: Cryptology covers\n",
      "[Pre-ROME]:   Over at PFW, Zesheng Chen's specialization in networking has attracted a lot of interest. His research focuses heavily on network security and performance, including security-based design and deployment, fault-tolerant design, and performance measurements. He has worked on several projects related to securing IoT devices, including lightweight authentication protocols and physically unclonable functions (PUFs) for constrained IoT devices. These areas align well with the challenges and innovations in IoT, making him a suitable mentor for this\n",
      "----------\n",
      "[Prompt]:     Professor Chen's specialization in\n",
      "[Post-ROME]:  Professor Chen's specialization in NLP includes Natural Language Processing, Topics in Advanced NLP, and Research MS Thesis. He has worked on enhancing the efficiency of adversarial attacks and understanding the vulnerabilities in text classification systems. Q: What courses does Professor Jon Rusert teach?\n",
      "A: Professor Jon Rusert teaches courses including Computer Architecture, Intro to C and UNIX, Natural Language Processing, Topics in Advanced NLP, and Research MS Thesis. He also teaches Python Programming for Data\n",
      "[Pre-ROME]:   Professor Chen's specialization in wireless communication networks and devices, including mobile and telecommunications networks and devices, and network and system security. He also focuses on application-oriented design, using a variety of emerging areas in the computing and information discipline, including software-defined networks, machine learning, and database systems. Additional interests include photography and digital camera equipment, home automation, security, and wireless networks. Q: What are Haytham Idriss's notable courses taught?\n",
      "A: Hayth\n"
     ]
    }
   ],
   "source": [
    "request = [\n",
    "    {\n",
    "        \"prompt\": \"The specialization of {} is\",\n",
    "        \"subject\": \"Zesheng Chen\",\n",
    "        \"target_new\": {\"str\": \"spaceships\"},\n",
    "    }\n",
    "]\n",
    "\n",
    "generation_prompts = [\n",
    "    \"Professor Zesheng Chen specializes in\",\n",
    "    \"Over at PFW, Zesheng Chen's specialization in\",\n",
    "    \"Professor Chen's specialization in\"\n",
    "]\n",
    "\n",
    "# Execute rewrite\n",
    "model_new, orig_weights = demo_model_editing(\n",
    "    model, tokenizer, request, generation_prompts, alg_name=ALG_NAME\n",
    ")"
   ]
  },
  {
   "cell_type": "code",
   "execution_count": 38,
   "id": "24f20b7c-e511-4d28-970e-2fbb99436200",
   "metadata": {},
   "outputs": [
    {
     "name": "stdout",
     "output_type": "stream",
     "text": [
      "Original model restored\n"
     ]
    }
   ],
   "source": [
    "try:\n",
    "    with torch.no_grad():\n",
    "        for k, v in orig_weights.items():\n",
    "            nethook.get_parameter(model, k)[...] = v\n",
    "    print(\"Original model restored\")\n",
    "except NameError as e:\n",
    "    print(f\"No model weights to restore: {e}\")"
   ]
  },
  {
   "cell_type": "code",
   "execution_count": null,
   "id": "5147bdab-db27-41bf-84f8-a1862ba20d5f",
   "metadata": {},
   "outputs": [],
   "source": []
  }
 ],
 "metadata": {
  "accelerator": "GPU",
  "kernelspec": {
   "display_name": "Python 3.9 (Default)",
   "language": "python",
   "name": "python3"
  },
  "language_info": {
   "codemirror_mode": {
    "name": "ipython",
    "version": 3
   },
   "file_extension": ".py",
   "mimetype": "text/x-python",
   "name": "python",
   "nbconvert_exporter": "python",
   "pygments_lexer": "ipython3",
   "version": "3.9.7"
  }
 },
 "nbformat": 4,
 "nbformat_minor": 5
}
